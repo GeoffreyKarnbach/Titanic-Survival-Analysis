{
 "cells": [
  {
   "cell_type": "markdown",
   "metadata": {},
   "source": [
    "## <u>Preface:</u>\n",
    "\n",
    "The goal of this jupyter notebook is to get a grasp of what some concrete \"criterias\" are, that strongly influence the probability for a passenger to survive.\n",
    "With those criterias, we can take a look at combined attributes to create new features, and paired with different models, the goal is to determine, wether or not a given person would survive the titanic accident. The models will be used to evaluate the test set and to allow a user to enter an arbitrary passenger description and check whether this passenger would have survived or not.\n",
    "\n",
    "The training dataset is from kaggle: https://www.kaggle.com/competitions/titanic"
   ]
  },
  {
   "cell_type": "code",
   "execution_count": 1,
   "metadata": {},
   "outputs": [],
   "source": [
    "import numpy as np\n",
    "import pandas as pd\n",
    "import matplotlib.pyplot as plt\n",
    "from tabulate import tabulate"
   ]
  },
  {
   "cell_type": "code",
   "execution_count": 2,
   "metadata": {},
   "outputs": [],
   "source": [
    "# Helper Functions\n",
    "def toPercent(value):\n",
    "    return round(round(value,3)*100,1)\n",
    "\n",
    "def size(value):\n",
    "    return value.shape[0]"
   ]
  },
  {
   "cell_type": "code",
   "execution_count": 3,
   "metadata": {},
   "outputs": [
    {
     "data": {
      "text/html": [
       "<div>\n",
       "<style scoped>\n",
       "    .dataframe tbody tr th:only-of-type {\n",
       "        vertical-align: middle;\n",
       "    }\n",
       "\n",
       "    .dataframe tbody tr th {\n",
       "        vertical-align: top;\n",
       "    }\n",
       "\n",
       "    .dataframe thead th {\n",
       "        text-align: right;\n",
       "    }\n",
       "</style>\n",
       "<table border=\"1\" class=\"dataframe\">\n",
       "  <thead>\n",
       "    <tr style=\"text-align: right;\">\n",
       "      <th></th>\n",
       "      <th>PassengerId</th>\n",
       "      <th>Survived</th>\n",
       "      <th>Pclass</th>\n",
       "      <th>Name</th>\n",
       "      <th>Sex</th>\n",
       "      <th>Age</th>\n",
       "      <th>SibSp</th>\n",
       "      <th>Parch</th>\n",
       "      <th>Ticket</th>\n",
       "      <th>Fare</th>\n",
       "      <th>Cabin</th>\n",
       "      <th>Embarked</th>\n",
       "    </tr>\n",
       "  </thead>\n",
       "  <tbody>\n",
       "    <tr>\n",
       "      <th>0</th>\n",
       "      <td>1</td>\n",
       "      <td>0</td>\n",
       "      <td>3</td>\n",
       "      <td>Braund, Mr. Owen Harris</td>\n",
       "      <td>male</td>\n",
       "      <td>22.0</td>\n",
       "      <td>1</td>\n",
       "      <td>0</td>\n",
       "      <td>A/5 21171</td>\n",
       "      <td>7.2500</td>\n",
       "      <td>NaN</td>\n",
       "      <td>S</td>\n",
       "    </tr>\n",
       "    <tr>\n",
       "      <th>1</th>\n",
       "      <td>2</td>\n",
       "      <td>1</td>\n",
       "      <td>1</td>\n",
       "      <td>Cumings, Mrs. John Bradley (Florence Briggs Th...</td>\n",
       "      <td>female</td>\n",
       "      <td>38.0</td>\n",
       "      <td>1</td>\n",
       "      <td>0</td>\n",
       "      <td>PC 17599</td>\n",
       "      <td>71.2833</td>\n",
       "      <td>C85</td>\n",
       "      <td>C</td>\n",
       "    </tr>\n",
       "    <tr>\n",
       "      <th>2</th>\n",
       "      <td>3</td>\n",
       "      <td>1</td>\n",
       "      <td>3</td>\n",
       "      <td>Heikkinen, Miss. Laina</td>\n",
       "      <td>female</td>\n",
       "      <td>26.0</td>\n",
       "      <td>0</td>\n",
       "      <td>0</td>\n",
       "      <td>STON/O2. 3101282</td>\n",
       "      <td>7.9250</td>\n",
       "      <td>NaN</td>\n",
       "      <td>S</td>\n",
       "    </tr>\n",
       "    <tr>\n",
       "      <th>3</th>\n",
       "      <td>4</td>\n",
       "      <td>1</td>\n",
       "      <td>1</td>\n",
       "      <td>Futrelle, Mrs. Jacques Heath (Lily May Peel)</td>\n",
       "      <td>female</td>\n",
       "      <td>35.0</td>\n",
       "      <td>1</td>\n",
       "      <td>0</td>\n",
       "      <td>113803</td>\n",
       "      <td>53.1000</td>\n",
       "      <td>C123</td>\n",
       "      <td>S</td>\n",
       "    </tr>\n",
       "    <tr>\n",
       "      <th>4</th>\n",
       "      <td>5</td>\n",
       "      <td>0</td>\n",
       "      <td>3</td>\n",
       "      <td>Allen, Mr. William Henry</td>\n",
       "      <td>male</td>\n",
       "      <td>35.0</td>\n",
       "      <td>0</td>\n",
       "      <td>0</td>\n",
       "      <td>373450</td>\n",
       "      <td>8.0500</td>\n",
       "      <td>NaN</td>\n",
       "      <td>S</td>\n",
       "    </tr>\n",
       "  </tbody>\n",
       "</table>\n",
       "</div>"
      ],
      "text/plain": [
       "   PassengerId  Survived  Pclass  \\\n",
       "0            1         0       3   \n",
       "1            2         1       1   \n",
       "2            3         1       3   \n",
       "3            4         1       1   \n",
       "4            5         0       3   \n",
       "\n",
       "                                                Name     Sex   Age  SibSp  \\\n",
       "0                            Braund, Mr. Owen Harris    male  22.0      1   \n",
       "1  Cumings, Mrs. John Bradley (Florence Briggs Th...  female  38.0      1   \n",
       "2                             Heikkinen, Miss. Laina  female  26.0      0   \n",
       "3       Futrelle, Mrs. Jacques Heath (Lily May Peel)  female  35.0      1   \n",
       "4                           Allen, Mr. William Henry    male  35.0      0   \n",
       "\n",
       "   Parch            Ticket     Fare Cabin Embarked  \n",
       "0      0         A/5 21171   7.2500   NaN        S  \n",
       "1      0          PC 17599  71.2833   C85        C  \n",
       "2      0  STON/O2. 3101282   7.9250   NaN        S  \n",
       "3      0            113803  53.1000  C123        S  \n",
       "4      0            373450   8.0500   NaN        S  "
      ]
     },
     "execution_count": 3,
     "metadata": {},
     "output_type": "execute_result"
    }
   ],
   "source": [
    "file = \"Data/train.csv\"\n",
    "\n",
    "df = pd.read_csv(file, sep = \",\")\n",
    "df.head()"
   ]
  },
  {
   "cell_type": "markdown",
   "metadata": {},
   "source": [
    "#### <u>Attribute List:</u>\n",
    "\n",
    "Skipped attributes:\n",
    "\n",
    "- PassengerId (should not be relevant for the analysis, does not correlate with the survival probability)\n",
    "- Ticket Number (should not be relevant for the analysis, does not correlate with the survival probability)\n",
    "- Cabin Number (Very incomplete attribute, cannot realistically be filled out using other information, hard to use properly, so skipped for our analysis)\n",
    "\n",
    "Analyzed attributes:\n",
    "\n",
    "- Passenger Class (First, Second, Third)\n",
    "- Name\n",
    "- Sex\n",
    "- Age\n",
    "- Number of siblings/spouses on Titanic\n",
    "- Number of parents/children on Titanic\n",
    "- Fare (Price paid)\n",
    "- Embarkation Port (C = Cherbourg, Q = Queenstown, S = Southampton)\n",
    "\n",
    "For each of the given attributes, there will be a statistical analysis of the data (sometimes in relation to other attributes), followed by possible explanation for that outcome.\n",
    "\n",
    "Although all of those attributes are interesting individualy, it makes sense to combine some of them additionaly to take into account some more complex relations."
   ]
  },
  {
   "cell_type": "markdown",
   "metadata": {},
   "source": [
    "##### <u>Basic Information</u>"
   ]
  },
  {
   "cell_type": "code",
   "execution_count": 4,
   "metadata": {},
   "outputs": [
    {
     "name": "stdout",
     "output_type": "stream",
     "text": [
      "Survival Rate in total:\n",
      "\n",
      "+---------------------+---------+\n",
      "| Description         | Value   |\n",
      "+=====================+=========+\n",
      "| Total passengers    | 891     |\n",
      "+---------------------+---------+\n",
      "| Passengers Survived | 342     |\n",
      "+---------------------+---------+\n",
      "| Passengers Dead     | 549     |\n",
      "+---------------------+---------+\n",
      "| Survival rate       | 38.4%   |\n",
      "+---------------------+---------+\n"
     ]
    }
   ],
   "source": [
    "totalPassengers = size(df)\n",
    "\n",
    "passengersDead = df[df[\"Survived\"] == 0]\n",
    "passengersAlive = df[df[\"Survived\"] == 1]\n",
    "\n",
    "data = [\n",
    "    [\"Total passengers\", totalPassengers],\n",
    "    [\"Passengers Survived\", size(passengersAlive)],\n",
    "    [\"Passengers Dead\", size(passengersDead)],\n",
    "    [\"Survival rate\", f\"{toPercent(size(passengersAlive)/totalPassengers)}%\"]\n",
    "]\n",
    "\n",
    "print(\"Survival Rate in total:\\n\")\n",
    "print(tabulate(data, headers=[\"Description\", \"Value\"], tablefmt=\"grid\"))"
   ]
  },
  {
   "cell_type": "markdown",
   "metadata": {},
   "source": [
    "##### </a><u>Does the passenger class influence the odd of surviving?</u>"
   ]
  },
  {
   "cell_type": "markdown",
   "metadata": {},
   "source": [
    "The Titanic was divided into three classes:\n",
    "- The first class (Premium Class)\n",
    "- The second class (Buisness Class)\n",
    "- The third class (Economy Class)\n",
    "\n",
    "The ticket prize for \"lower\" classes was way higher, therefore the first class was mainly occupied by \"rich\" passengers. It is historicaly known that the first and second class were separated from the third class to prevent the \"spread of infections\".\n",
    "\n",
    "With those two facts, it would make sense, that passengers in first (and second) class would have higher survival chances:"
   ]
  },
  {
   "cell_type": "code",
   "execution_count": 5,
   "metadata": {},
   "outputs": [
    {
     "name": "stdout",
     "output_type": "stream",
     "text": [
      "Repartition of passengers by class:\n",
      "\n",
      "+--------------+---------+--------------+\n",
      "| Class        |   Count | Percentage   |\n",
      "+==============+=========+==============+\n",
      "| First class  |     216 | 24.2%        |\n",
      "+--------------+---------+--------------+\n",
      "| Second class |     184 | 20.7%        |\n",
      "+--------------+---------+--------------+\n",
      "| Third class  |     491 | 55.1%        |\n",
      "+--------------+---------+--------------+\n",
      "| Total        |     891 | 100.0%       |\n",
      "+--------------+---------+--------------+\n"
     ]
    }
   ],
   "source": [
    "firstClass= df[df.Pclass == 1]\n",
    "secondClass = df[df.Pclass == 2]\n",
    "thirdClass = df[df.Pclass == 3]\n",
    "\n",
    "\n",
    "data = [\n",
    "    [\"First class\", size(firstClass), str(toPercent(size(firstClass)/totalPassengers))+\"%\"],\n",
    "    [\"Second class\", size(secondClass), str(toPercent(size(secondClass)/totalPassengers))+\"%\"],\n",
    "    [\"Third class\", size(thirdClass), str(toPercent(size(thirdClass)/totalPassengers))+\"%\"],\n",
    "    [\"Total\", totalPassengers, \"100.0%\"]\n",
    "]\n",
    "\n",
    "print(\"Repartition of passengers by class:\\n\")\n",
    "print(tabulate(data, headers=[\"Class\", \"Count\", \"Percentage\"], tablefmt=\"grid\"))"
   ]
  },
  {
   "cell_type": "markdown",
   "metadata": {},
   "source": [
    "First class survival ratio:"
   ]
  },
  {
   "cell_type": "code",
   "execution_count": 6,
   "metadata": {},
   "outputs": [
    {
     "name": "stdout",
     "output_type": "stream",
     "text": [
      "Survival rate by class:\n",
      "\n",
      "+--------------+---------+--------+---------+-----------------+\n",
      "| Class        |   Total |   Dead |   Alive | Survival Rate   |\n",
      "+==============+=========+========+=========+=================+\n",
      "| First class  |     216 |     80 |     136 | 63.0%           |\n",
      "+--------------+---------+--------+---------+-----------------+\n",
      "| Second class |     184 |     97 |      87 | 47.3%           |\n",
      "+--------------+---------+--------+---------+-----------------+\n",
      "| Third class  |     491 |    372 |     119 | 24.2%           |\n",
      "+--------------+---------+--------+---------+-----------------+\n",
      "| Total        |     891 |    549 |     342 | 100.0%          |\n",
      "+--------------+---------+--------+---------+-----------------+\n"
     ]
    }
   ],
   "source": [
    "firstClassDead = df[(df[\"Pclass\"] == 1) & (df[\"Survived\"] == 0)]\n",
    "firstClassAlive = df[(df[\"Pclass\"] == 1) & (df[\"Survived\"] == 1)]\n",
    "firstClassSurvivalRatio = size(firstClassAlive)/size(firstClass)\n",
    "\n",
    "secondClassDead = df[(df[\"Pclass\"] == 2) & (df[\"Survived\"] == 0)]\n",
    "secondClassAlive = df[(df[\"Pclass\"] == 2) & (df[\"Survived\"] == 1)]\n",
    "secondClassSurvivalRatio = size(secondClassAlive)/size(secondClass)\n",
    "\n",
    "thirdClassDead = df[(df[\"Pclass\"] == 3) & (df[\"Survived\"] == 0)]\n",
    "thirdClassAlive = df[(df[\"Pclass\"] == 3) & (df[\"Survived\"] == 1)]\n",
    "thirdClassSurvivalRatio = size(thirdClassAlive)/size(thirdClass)\n",
    "\n",
    "data = [\n",
    "    [\"First class\", size(firstClass), size(firstClassDead), size(firstClassAlive), str(toPercent(firstClassSurvivalRatio))+\"%\"],\n",
    "    [\"Second class\", size(secondClass), size(secondClassDead), size(secondClassAlive), str(toPercent(secondClassSurvivalRatio))+\"%\"],\n",
    "    [\"Third class\", size(thirdClass), size(thirdClassDead), size(thirdClassAlive), str(toPercent(thirdClassSurvivalRatio))+\"%\"],\n",
    "    [\"Total\", totalPassengers, size(passengersDead), size(passengersAlive), \"100.0%\"]\n",
    "]\n",
    "\n",
    "print(\"Survival rate by class:\\n\")\n",
    "print(tabulate(data, headers=[\"Class\", \"Total\", \"Dead\", \"Alive\", \"Survival Rate\"], tablefmt=\"grid\"))"
   ]
  },
  {
   "cell_type": "markdown",
   "metadata": {},
   "source": [
    "As assumed earlier, the higher the class of the passenger was, the higher his odd of surviving was. The result is not that surprising, as the first class cabins were nearer to the deck and the rescue boats and therefore probably had easier and faster access to rescue boats. The third class was quite isolated, therefore making it harder for those passengers to escape from the sinking ship.\n",
    "\n",
    "Buying a first class ticket earned you a 63% survivability probabilty. This value is reduced to sligthly under 50% (47.3%) for second class. Third class passengers only had a survival odd of about 25% (24.2%).\n",
    "\n",
    "We clearly see that this attribute is a quick way to estimate the rough odds for a person of a given class to survive, even though other attribute have a significant impact (especially combined with the passenger class as we will see).\n",
    "\n",
    "Although the sample of passengers in first and second class is smaller than the sample of passengers of third class, we can still assume that this attribute will play a major role for our classification."
   ]
  },
  {
   "cell_type": "code",
   "execution_count": 7,
   "metadata": {},
   "outputs": [
    {
     "data": {
      "image/png": "[encoded data removed]",
      "text/plain": [
       "<Figure size 1500x500 with 1 Axes>"
      ]
     },
     "metadata": {},
     "output_type": "display_data"
    }
   ],
   "source": [
    "values = [\n",
    "    firstClassSurvivalRatio * 100,\n",
    "    (1 - firstClassSurvivalRatio) * 100,\n",
    "    secondClassSurvivalRatio * 100,\n",
    "    (1 - secondClassSurvivalRatio) * 100,\n",
    "    thirdClassSurvivalRatio * 100,\n",
    "    (1 - thirdClassSurvivalRatio) * 100\n",
    "]\n",
    "\n",
    "plt.figure(figsize=(15, 5))\n",
    "\n",
    "labels = [\"1st Class Surviving\", \"1st Class Died\", \"2nd Class Surviving\", \"2nd Class Died\", \"3rd Class Surviving\", \"3rd Class Died\"]\n",
    "bars = plt.bar(labels, values, color=['green', 'red', 'green', 'red', 'green', 'red'])\n",
    "plt.title(\"Survival rate for each passenger class (in %)\")\n",
    "\n",
    "for bar, value in zip(bars, values):\n",
    "    plt.text(bar.get_x() + bar.get_width() / 2, bar.get_height() - 5, f'{value:.2f}%', ha='center', va='bottom', color='white', fontsize=12)\n"
   ]
  },
  {
   "cell_type": "markdown",
   "metadata": {},
   "source": [
    "##### <u> Did gender influence your odd of surviving?</u>"
   ]
  },
  {
   "cell_type": "markdown",
   "metadata": {},
   "source": [
    "\n",
    "Will we be able to observe a major discrepancy between the genders regarding survival rate?<br>\n",
    "It is well known, that women and children have a higher priority when evacuating a ship or a plane. \n",
    "Indeed this question is a bit more complex, as a pure look at the gender distribution may be missleading.<br><br>\n",
    "Therefore, the gender question will split: \n",
    "It will be treated in this category, as well as later on, while taking into account the age too, to account for the male children for instance."
   ]
  },
  {
   "cell_type": "code",
   "execution_count": 8,
   "metadata": {},
   "outputs": [
    {
     "name": "stdout",
     "output_type": "stream",
     "text": [
      "Repartition of passengers by sex:\n",
      "\n",
      "+-------------------+---------+--------------+------------+--------+-----------------+\n",
      "| Sex               |   Count | Percentage   |   Survived |   Dead | Survival Rate   |\n",
      "+===================+=========+==============+============+========+=================+\n",
      "| Male passengers   |     577 | 64.8%        |        109 |    468 | 18.9%           |\n",
      "+-------------------+---------+--------------+------------+--------+-----------------+\n",
      "| Female passengers |     314 | 35.2%        |        233 |     81 | 74.2%           |\n",
      "+-------------------+---------+--------------+------------+--------+-----------------+\n",
      "| Total             |     891 | 100.0%       |        342 |    549 | 38.4%           |\n",
      "+-------------------+---------+--------------+------------+--------+-----------------+\n"
     ]
    }
   ],
   "source": [
    "malePassengers = df[df.Sex == \"male\"]\n",
    "maleRatio = size(malePassengers)/totalPassengers\n",
    "\n",
    "maleDead = df[(df[\"Sex\"] == \"male\") & (df[\"Survived\"] == 0)]\n",
    "maleAlive = df[(df[\"Sex\"] == \"male\") & (df[\"Survived\"] == 1)]\n",
    "maleSurvivalRatio = size(maleAlive) / size(malePassengers)\n",
    "\n",
    "femalePassengers = df[df.Sex == \"female\"]\n",
    "femaleRatio = size(femalePassengers)/totalPassengers\n",
    "\n",
    "femaleDead = df[(df[\"Sex\"] == \"female\") & (df[\"Survived\"] == 0)]\n",
    "femaleAlive = df[(df[\"Sex\"] == \"female\") & (df[\"Survived\"] == 1)]\n",
    "femaleSurvivalRatio = size(femaleAlive) / size(femalePassengers)\n",
    "\n",
    "data = [\n",
    "    [\"Male passengers\", size(malePassengers), str(toPercent(maleRatio))+\"%\", size(maleAlive), size(maleDead), str(toPercent(maleSurvivalRatio))+\"%\"],\n",
    "    [\"Female passengers\", size(femalePassengers), str(toPercent(femaleRatio))+\"%\", size(femaleAlive), size(femaleDead), str(toPercent(femaleSurvivalRatio))+\"%\"],\n",
    "    [\"Total\", totalPassengers, \"100.0%\", size(passengersAlive), size(passengersDead), str(toPercent(size(passengersAlive)/totalPassengers))+\"%\"]\n",
    "]\n",
    "\n",
    "print(\"Repartition of passengers by sex:\\n\")\n",
    "print(tabulate(data, headers = [\"Sex\", \"Count\", \"Percentage\", \"Survived\", \"Dead\", \"Survival Rate\"], tablefmt=\"grid\"))"
   ]
  },
  {
   "cell_type": "code",
   "execution_count": 9,
   "metadata": {},
   "outputs": [
    {
     "data": {
      "image/png": "[encoded data removed]",
      "text/plain": [
       "<Figure size 1500x500 with 1 Axes>"
      ]
     },
     "metadata": {},
     "output_type": "display_data"
    }
   ],
   "source": [
    "values = [\n",
    "    1 * 100,\n",
    "    (1 - maleSurvivalRatio) * 100,\n",
    "    maleSurvivalRatio * 100,\n",
    "    1 * 100,\n",
    "    (1 - femaleSurvivalRatio) * 100,\n",
    "    femaleSurvivalRatio * 100\n",
    "]\n",
    "\n",
    "plt.figure(figsize=(15, 5))\n",
    "labels = [\"Male Total\", \"Male Dead\", \"Male Surviving\", \"Female Total\", \"Female Dead\", \"Female Surviving\"]\n",
    "bars = plt.bar(labels, values, color=['blue', 'red', 'green', 'blue', 'red', 'green'])\n",
    "plt.title(\"Survival rate per gender (in %)\")\n",
    "\n",
    "for bar, value in zip(bars, values):\n",
    "    plt.text(bar.get_x() + bar.get_width() / 2, bar.get_height() - 10, f'{value:.2f}%', ha='center', va='bottom', color='white', fontsize=12)\n"
   ]
  },
  {
   "cell_type": "markdown",
   "metadata": {},
   "source": [
    "From that data, we see that:\n",
    "\n",
    "1) There were more men than women on board of the titanic (About 65% of the passengers were male).\n",
    "2) The survial ratio for male passengers was way smaller (19%) than for female passengers (74%). These numbers clearly indicate that women had priority, while boarding the rescue boats compared to men, regardless of their class.\n",
    "\n",
    "From this point on, there is an obvious additional question. Where the \"rare\" saved male passengers children, rich people or just lucky passengers?"
   ]
  },
  {
   "cell_type": "markdown",
   "metadata": {},
   "source": [
    "##### <u> Does the age of a passenger influence its survival odd?</u>"
   ]
  },
  {
   "cell_type": "markdown",
   "metadata": {},
   "source": [
    "The sinking of the ship was probably quite stressful. Senior passengers probably had a harder time reaching the deck of the boat, as they usualy are weaker. Can we observe a high survival ratio for a specific \"age class\"? And what do the graphs of the surviving/dead male and female passengers look like? Are most of the male survivors children?"
   ]
  },
  {
   "cell_type": "code",
   "execution_count": 10,
   "metadata": {},
   "outputs": [
    {
     "name": "stdout",
     "output_type": "stream",
     "text": [
      "Age information:\n",
      "\n",
      "+------------------------+---------+\n",
      "| Description            |   Value |\n",
      "+========================+=========+\n",
      "| Total passengers       |     891 |\n",
      "+------------------------+---------+\n",
      "| Passengers with age    |     714 |\n",
      "+------------------------+---------+\n",
      "| Passengers without age |     177 |\n",
      "+------------------------+---------+\n"
     ]
    }
   ],
   "source": [
    "# Missing age information\n",
    "noAgesGiven = df[df.Age.isnull()]\n",
    "\n",
    "data = [\n",
    "    [\"Total passengers\", size(df)],\n",
    "    [\"Passengers with age\", size(df) - size(noAgesGiven)],\n",
    "    [\"Passengers without age\", size(noAgesGiven)]\n",
    "]\n",
    "\n",
    "print(\"Age information:\\n\")\n",
    "print(tabulate(data, headers=[\"Description\", \"Value\"], tablefmt=\"grid\"))"
   ]
  },
  {
   "cell_type": "markdown",
   "metadata": {},
   "source": [
    "Age repartion of all the passengers (not all the ages of the passengers were given, 177 were missing):"
   ]
  },
  {
   "cell_type": "code",
   "execution_count": 11,
   "metadata": {},
   "outputs": [
    {
     "name": "stdout",
     "output_type": "stream",
     "text": [
      "All gender age:\n",
      "\n",
      "count    714.000000\n",
      "mean      29.699118\n",
      "std       14.526497\n",
      "min        0.420000\n",
      "25%       20.125000\n",
      "50%       28.000000\n",
      "75%       38.000000\n",
      "max       80.000000\n",
      "Name: Age, dtype: float64\n",
      "\n",
      "Male age:\n",
      "\n",
      "count    453.000000\n",
      "mean      30.726645\n",
      "std       14.678201\n",
      "min        0.420000\n",
      "25%       21.000000\n",
      "50%       29.000000\n",
      "75%       39.000000\n",
      "max       80.000000\n",
      "Name: Age, dtype: float64\n",
      "\n",
      "Female age:\n",
      "\n",
      "count    261.000000\n",
      "mean      27.915709\n",
      "std       14.110146\n",
      "min        0.750000\n",
      "25%       18.000000\n",
      "50%       27.000000\n",
      "75%       37.000000\n",
      "max       63.000000\n",
      "Name: Age, dtype: float64\n"
     ]
    }
   ],
   "source": [
    "# All passengers\n",
    "agesMixed = df[\"Age\"].unique()\n",
    "agesMixed = agesMixed[~np.isnan(agesMixed)]\n",
    "counterMixed = [size(df[df.Age == val]) for val in agesMixed]\n",
    "\n",
    "ageMales = malePassengers[\"Age\"].unique()\n",
    "ageMales = ageMales[~np.isnan(ageMales)]\n",
    "counterMale = [size(df[(df[\"Age\"] == val) & (df[\"Sex\"] == \"male\")]) for val in ageMales]\n",
    "\n",
    "ageFemale = femalePassengers[\"Age\"].unique()\n",
    "ageFemale = ageFemale[~np.isnan(ageFemale)]\n",
    "counterFemale = [size(df[(df[\"Age\"] == val) & (df[\"Sex\"] == \"female\")]) for val in ageFemale]\n",
    "\n",
    "print(\"All gender age:\\n\")\n",
    "print(df[\"Age\"].describe())\n",
    "\n",
    "print(\"\\nMale age:\\n\")\n",
    "print(malePassengers[\"Age\"].describe())\n",
    "\n",
    "print(\"\\nFemale age:\\n\")\n",
    "print(femalePassengers[\"Age\"].describe())\n"
   ]
  },
  {
   "cell_type": "code",
   "execution_count": 12,
   "metadata": {},
   "outputs": [
    {
     "data": {
      "text/plain": [
       "Text(0.5, 1.0, 'Females')"
      ]
     },
     "execution_count": 12,
     "metadata": {},
     "output_type": "execute_result"
    },
    {
     "data": {
      "image/png": "[encoded data removed]",
      "text/plain": [
       "<Figure size 2400x500 with 3 Axes>"
      ]
     },
     "metadata": {},
     "output_type": "display_data"
    }
   ],
   "source": [
    "plt.figure(figsize=(24, 5))\n",
    "\n",
    "plt.subplot(131)\n",
    "plt.bar(agesMixed, counterMixed)\n",
    "plt.title(\"Mixed genders\")\n",
    "\n",
    "plt.subplot(132)\n",
    "plt.bar(ageMales, counterMale)\n",
    "plt.title(\"Males\")\n",
    "\n",
    "plt.subplot(133)\n",
    "plt.bar(ageFemale, counterFemale)\n",
    "plt.title(\"Females\")"
   ]
  },
  {
   "cell_type": "markdown",
   "metadata": {},
   "source": [
    "We can see from those graphs, that the most prevalent male passenger age group was adults (from 18 to 35 years old). For female passengers the age classes were quite even, allthough we can also observe a bit higher presence of adult (from 18 to 35 years old)."
   ]
  },
  {
   "cell_type": "markdown",
   "metadata": {},
   "source": [
    "How does the age repartition look like for deceased male and female passengers:"
   ]
  },
  {
   "cell_type": "code",
   "execution_count": 13,
   "metadata": {},
   "outputs": [],
   "source": [
    "# Dead only\n",
    "deads = df[df.Survived == 0]\n",
    "agesMixedDead = deads[\"Age\"].unique()\n",
    "agesMixedDead = agesMixedDead[~np.isnan(agesMixedDead)]\n",
    "counterMixedDead = [size(deads[deads.Age == val]) for val in agesMixedDead]\n",
    "\n",
    "deadMales = df[(df.Survived == 0) & (df.Sex == \"male\")]\n",
    "ageMalesDead = deadMales[\"Age\"].unique()\n",
    "ageMalesDead = ageMalesDead[~np.isnan(ageMalesDead)]\n",
    "counterMaleDead = [size(deads[(deads[\"Age\"] == val) & (deads[\"Sex\"] == \"male\")]) for val in ageMalesDead]\n",
    "\n",
    "deadFemales = df[(df.Survived == 0) & (df.Sex == \"female\")]\n",
    "ageFemaleDead = deadFemales[\"Age\"].unique()\n",
    "ageFemaleDead = ageFemaleDead[~np.isnan(ageFemaleDead)]\n",
    "counterFemaleDead = [size(deads[(deads[\"Age\"] == val) & (deads[\"Sex\"] == \"female\")]) for val in ageFemaleDead]"
   ]
  },
  {
   "cell_type": "code",
   "execution_count": 14,
   "metadata": {},
   "outputs": [
    {
     "name": "stdout",
     "output_type": "stream",
     "text": [
      "Dead passengers age:\n",
      "\n"
     ]
    },
    {
     "data": {
      "image/png": "[encoded data removed]",
      "text/plain": [
       "<Figure size 2400x500 with 3 Axes>"
      ]
     },
     "metadata": {},
     "output_type": "display_data"
    }
   ],
   "source": [
    "plt.figure(figsize=(24, 5))\n",
    "plt.subplot(131)\n",
    "plt.bar(agesMixedDead, counterMixedDead)\n",
    "plt.title(\"Mixed genders\")\n",
    "plt.subplot(132)\n",
    "plt.bar(ageMalesDead, counterMaleDead)\n",
    "plt.title(\"Males\")\n",
    "plt.subplot(133)\n",
    "plt.bar(ageFemaleDead, counterFemaleDead)\n",
    "plt.title(\"Females\")\n",
    "\n",
    "print(\"Dead passengers age:\\n\")"
   ]
  },
  {
   "cell_type": "markdown",
   "metadata": {},
   "source": [
    "We can observe that most of the deceased passengers (especialy true for male passengers) were adults, as they also represent the most prevalent passenger group. "
   ]
  },
  {
   "cell_type": "markdown",
   "metadata": {},
   "source": [
    "How does the age repartition look like for survivors:"
   ]
  },
  {
   "cell_type": "code",
   "execution_count": 15,
   "metadata": {},
   "outputs": [],
   "source": [
    "# Alive only\n",
    "alive = df[df.Survived == 1]\n",
    "agesMixedAlive = alive[\"Age\"].unique()\n",
    "agesMixedAlive = agesMixedAlive[~np.isnan(agesMixedAlive)]\n",
    "counterMixedAlive = [size(alive[alive.Age == val]) for val in agesMixedAlive]\n",
    "\n",
    "aliveMales = df[(df.Survived == 0) & (df.Sex == \"male\")]\n",
    "ageMalesAlive = aliveMales[\"Age\"].unique()\n",
    "ageMalesAlive = ageMalesAlive[~np.isnan(ageMalesAlive)]\n",
    "counterMaleAlive = [size(alive[(alive[\"Age\"] == val) & (alive[\"Sex\"] == \"male\")]) for val in ageMalesAlive]\n",
    "\n",
    "aliveFemales = df[(df.Survived == 0) & (df.Sex == \"female\")]\n",
    "ageFemaleAlive = aliveFemales[\"Age\"].unique()\n",
    "ageFemaleAlive = ageFemaleAlive[~np.isnan(ageFemaleAlive)]\n",
    "counterFemaleAlive = [size(alive[(alive[\"Age\"] == val) & (alive[\"Sex\"] == \"female\")]) for val in ageFemaleAlive]"
   ]
  },
  {
   "cell_type": "code",
   "execution_count": 16,
   "metadata": {},
   "outputs": [
    {
     "data": {
      "text/plain": [
       "Text(0.5, 1.0, 'Females')"
      ]
     },
     "execution_count": 16,
     "metadata": {},
     "output_type": "execute_result"
    },
    {
     "data": {
      "image/png": "[encoded data removed]",
      "text/plain": [
       "<Figure size 2400x500 with 3 Axes>"
      ]
     },
     "metadata": {},
     "output_type": "display_data"
    }
   ],
   "source": [
    "plt.figure(figsize=(24, 5))\n",
    "plt.subplot(131)\n",
    "plt.bar(agesMixedAlive, counterMixedAlive)\n",
    "plt.title(\"Mixed genders\")\n",
    "plt.subplot(132)\n",
    "plt.bar(ageMalesAlive, counterMaleAlive)\n",
    "plt.title(\"Males\")\n",
    "plt.subplot(133)\n",
    "plt.bar(ageFemaleAlive, counterFemaleAlive)\n",
    "plt.title(\"Females\")"
   ]
  },
  {
   "cell_type": "markdown",
   "metadata": {},
   "source": [
    "As the survival rate for male passengers was quite low, it is hard to get any usable information from the graph about male passengers. In contrary, female passengers in adult age seem to have survived the most. "
   ]
  },
  {
   "cell_type": "markdown",
   "metadata": {},
   "source": [
    "Now that we have seen the age repartition for male and female survivors/deads, it would be interesting to analyse the survival rate per \"age range\":\n",
    "- Children (0 -> 13)\n",
    "- Teenagers (14 -> 18)\n",
    "- Adults(18 -> 60)\n",
    "- Senior Citizen (60 -> inf)"
   ]
  },
  {
   "cell_type": "code",
   "execution_count": 17,
   "metadata": {},
   "outputs": [],
   "source": [
    "childrens = df[(df.Age <= 13)]\n",
    "teenagers = df[(df.Age >= 14) & (df.Age < 18)]\n",
    "adults = df[(df.Age >= 18) & (df.Age <= 60)]\n",
    "seniors = df[(df.Age >= 61)]\n",
    "\n",
    "childrenAlive = childrens[childrens.Survived == 1]\n",
    "childrenDead = childrens[childrens.Survived == 0]\n",
    "\n",
    "teenagersAlive = teenagers[teenagers.Survived == 1]\n",
    "teenagersDead = teenagers[teenagers.Survived == 0]\n",
    "\n",
    "adultsAlive = adults[adults.Survived == 1]\n",
    "adultsDead = adults[adults.Survived == 0]\n",
    "\n",
    "seniorsAlive = seniors[seniors.Survived == 1]\n",
    "seniorsDead = seniors[seniors.Survived == 0]"
   ]
  },
  {
   "cell_type": "code",
   "execution_count": 18,
   "metadata": {},
   "outputs": [
    {
     "name": "stdout",
     "output_type": "stream",
     "text": [
      "Survival rate by age group:\n",
      "\n",
      "+-------------+---------+------------+--------+-----------------+\n",
      "| Age group   |   Total |   Survived |   Dead | Survival Rate   |\n",
      "+=============+=========+============+========+=================+\n",
      "| Children    |      71 |         42 |     29 | 59.2%           |\n",
      "+-------------+---------+------------+--------+-----------------+\n",
      "| Teenagers   |      42 |         19 |     23 | 45.2%           |\n",
      "+-------------+---------+------------+--------+-----------------+\n",
      "| Adults      |     579 |        224 |    355 | 38.7%           |\n",
      "+-------------+---------+------------+--------+-----------------+\n",
      "| Seniors     |      22 |          5 |     17 | 22.7%           |\n",
      "+-------------+---------+------------+--------+-----------------+\n"
     ]
    }
   ],
   "source": [
    "data = [\n",
    "    [\"Children\", size(childrens), size(childrenAlive), size(childrenDead), str(toPercent(size(childrenAlive)/size(childrens)))+\"%\"],\n",
    "    [\"Teenagers\", size(teenagers), size(teenagersAlive), size(teenagersDead), str(toPercent(size(teenagersAlive)/size(teenagers)))+\"%\"],\n",
    "    [\"Adults\", size(adults), size(adultsAlive), size(adultsDead), str(toPercent(size(adultsAlive)/size(adults)))+\"%\"],\n",
    "    [\"Seniors\", size(seniors), size(seniorsAlive), size(seniorsDead), str(toPercent(size(seniorsAlive)/size(seniors)))+\"%\"]\n",
    "]\n",
    "\n",
    "print(\"Survival rate by age group:\\n\")\n",
    "print(tabulate(data, headers=[\"Age group\", \"Total\", \"Survived\", \"Dead\", \"Survival Rate\"], tablefmt=\"grid\"))"
   ]
  },
  {
   "cell_type": "code",
   "execution_count": 19,
   "metadata": {},
   "outputs": [
    {
     "data": {
      "text/plain": [
       "<BarContainer object of 4 artists>"
      ]
     },
     "execution_count": 19,
     "metadata": {},
     "output_type": "execute_result"
    },
    {
     "data": {
      "image/png": "[encoded data removed]",
      "text/plain": [
       "<Figure size 1000x500 with 1 Axes>"
      ]
     },
     "metadata": {},
     "output_type": "display_data"
    }
   ],
   "source": [
    "plt.figure(figsize=(10, 5))\n",
    "plt.title(\"Age group repartition (Alive and dead)\")\n",
    "plt.bar([\"Children\",\"Teenager\",\"Adults\",\"Seniors\"], [size(childrens),size(teenagers),size(adults),size(seniors)])"
   ]
  },
  {
   "cell_type": "markdown",
   "metadata": {},
   "source": [
    "As evoked earlier on, the main age category on board of the titanic is adult age (from 18 to 60 years old). How do the different age ranges compare in regard of survival rate?"
   ]
  },
  {
   "cell_type": "code",
   "execution_count": 20,
   "metadata": {},
   "outputs": [
    {
     "data": {
      "text/plain": [
       "<BarContainer object of 8 artists>"
      ]
     },
     "execution_count": 20,
     "metadata": {},
     "output_type": "execute_result"
    },
    {
     "data": {
      "image/png": "[encoded data removed]",
      "text/plain": [
       "<Figure size 1500x500 with 1 Axes>"
      ]
     },
     "metadata": {},
     "output_type": "display_data"
    }
   ],
   "source": [
    "categories = [\"Children Alive\",\"Children Dead\",\"Teenager Alive\",\"Teenager Dead\",\"Adults Alive\",\"Adults Dead\",\"Seniors Alive\",\"Seniors Dead\"]\n",
    "values = [size(childrenAlive),size(childrenDead),size(teenagersAlive),size(teenagersDead),size(adultsAlive),size(adultsDead),size(seniorsAlive),size(seniorsDead)]\n",
    "\n",
    "plt.figure(figsize=(15, 5))\n",
    "plt.title(\"Age group survival repartition\")\n",
    "plt.bar(categories, values)"
   ]
  },
  {
   "cell_type": "code",
   "execution_count": 21,
   "metadata": {},
   "outputs": [
    {
     "data": {
      "text/plain": [
       "<BarContainer object of 8 artists>"
      ]
     },
     "execution_count": 21,
     "metadata": {},
     "output_type": "execute_result"
    },
    {
     "data": {
      "image/png": "[encoded data removed]",
      "text/plain": [
       "<Figure size 1500x500 with 1 Axes>"
      ]
     },
     "metadata": {},
     "output_type": "display_data"
    }
   ],
   "source": [
    "valuesPercent = [\n",
    "    toPercent(size(childrenAlive)/+size(childrens)),\n",
    "    toPercent(size(childrenDead)/size(childrens)),\n",
    "    toPercent(size(teenagersAlive)/size(teenagers)),\n",
    "    toPercent(size(teenagersDead)/size(teenagers)),\n",
    "    toPercent(size(adultsAlive)/size(adults)),\n",
    "    toPercent(size(adultsDead)/size(adults)),\n",
    "    toPercent(size(seniorsAlive)/size(seniors)),\n",
    "    toPercent(size(seniorsDead)/size(seniors))\n",
    "]\n",
    "\n",
    "plt.figure(figsize=(15, 5))\n",
    "plt.title(\"Age group survival repartition in %\")\n",
    "plt.bar(categories, valuesPercent)"
   ]
  },
  {
   "cell_type": "markdown",
   "metadata": {},
   "source": [
    "From that graph it is clearly visible, that children had a better chance of surviving (about 60%), and every age range afterwards has worse and worse survival ratios (teenager: about 45%, adults: about 40%, seniors: about 25%). This repartition clearly makes sense, as children (no matter their gender) had priority to board on a rescue boat, and the rest of the passengers were prioritized depending on their gender (mostly females). \n",
    "<br><br>\n",
    "To check that hypothesis, we can determine the gender of surviving adults, as they represent the most prevalent group of passengers:"
   ]
  },
  {
   "cell_type": "code",
   "execution_count": 22,
   "metadata": {},
   "outputs": [
    {
     "name": "stdout",
     "output_type": "stream",
     "text": [
      "Male adults alive: 68\n",
      "Male adults dead: 308\n",
      "Female adults alive: 156\n",
      "Female adults dead: 47\n",
      "\n",
      "Male total: 376\n",
      "Female total: 203\n"
     ]
    }
   ],
   "source": [
    "adultsMaleAlive = adultsAlive[adultsAlive.Sex == \"male\"]\n",
    "adultsMaleDead = adultsDead[adultsDead.Sex == \"male\"]\n",
    "adultsMale = adults[adults.Sex == \"male\"]\n",
    "\n",
    "adultsFemaleAlive = adultsAlive[adultsAlive.Sex == \"female\"]\n",
    "adultsFemaleDead = adultsDead[adultsDead.Sex == \"female\"]\n",
    "adultsFemale = adults[adults.Sex == \"female\"]\n",
    "\n",
    "print(f\"Male adults alive: {size(adultsMaleAlive)}\\nMale adults dead: {size(adultsMaleDead)}\\nFemale adults alive: {size(adultsFemaleAlive)}\\nFemale adults dead: {size(adultsFemaleDead)}\")\n",
    "print(f\"\\nMale total: {size(adultsMale)}\\nFemale total: {size(adultsFemale)}\")"
   ]
  },
  {
   "cell_type": "code",
   "execution_count": 23,
   "metadata": {},
   "outputs": [
    {
     "data": {
      "text/plain": [
       "<BarContainer object of 4 artists>"
      ]
     },
     "execution_count": 23,
     "metadata": {},
     "output_type": "execute_result"
    },
    {
     "data": {
      "image/png": "[encoded data removed]",
      "text/plain": [
       "<Figure size 1500x500 with 1 Axes>"
      ]
     },
     "metadata": {},
     "output_type": "display_data"
    }
   ],
   "source": [
    "values = [toPercent(size(adultsMaleAlive)/size(adultsMale)),toPercent(size(adultsMaleDead)/size(adultsMale)),toPercent(size(adultsFemaleAlive)/size(adultsFemale)),toPercent(size(adultsFemaleDead)/size(adultsFemale))]\n",
    "categories = [\"Adult Male Alive\",\"Adult Male Dead\",\"Adult Female Alive\",\"Adult Female Dead\"]\n",
    "\n",
    "plt.figure(figsize=(15, 5))\n",
    "plt.title(\"Gender and survival ratio for adults (in %)\")\n",
    "plt.bar(categories, values)"
   ]
  },
  {
   "cell_type": "markdown",
   "metadata": {},
   "source": [
    "Indeed it is very obvious that women were prioritized, as about only 20% of male passengers (including children) survived, compared to nearly 75% of female passengers.<br><br>\n",
    "\n",
    "We can indeed observe a high survival ratio for children, as they probably got saved first together with women. We can therefore also notice that women had a way higher survival rate than men. In contrary to the starting hypothesis, that most of the male survivors would be children, we can clearly see on the graph of male survivors, that also adults got saved (probably first class passengers and richer passengers).\n",
    "\n",
    "Compared to the passenger class or to the gender, the age doesn't provide a very accurate criteria, except children (high survival rate) and seniors (very low survival rate). Therefore, if we want to use the age as a criteria, it needs to be paired with the gender to be more \"accurate\"."
   ]
  },
  {
   "cell_type": "markdown",
   "metadata": {},
   "source": [
    "##### <u>Did traveling alone increase your survival rate?</u>"
   ]
  },
  {
   "cell_type": "markdown",
   "metadata": {},
   "source": [
    "In this section we are going to analyze both the traveling with:\n",
    "- siblings / spouses\n",
    "- parents / children\n",
    "\n",
    "In a stressful scenario, it is important that people can focus. If the passengers had parents or children to take care of, they might get deconcentrated and thus this would reduce their surviving chances. Therefore, we may ask ourselves: Does traveling alone increase your survival odd? Do we observe a difference in survival rate depending on the number of relatives on board as well (SibSp + Parch)?"
   ]
  },
  {
   "cell_type": "code",
   "execution_count": 24,
   "metadata": {},
   "outputs": [
    {
     "name": "stdout",
     "output_type": "stream",
     "text": [
      "Lone Traveller: 537\n",
      "One Relative Traveller: 161\n",
      "Two Relative Traveller: 102\n",
      "Three or more Relative Traveller: 91\n"
     ]
    }
   ],
   "source": [
    "loneTraveller = df[df.SibSp + df.Parch == 0]\n",
    "oneRelative = df[df.SibSp + df.Parch == 1]\n",
    "twoRelative = df[df.SibSp + df.Parch == 2]\n",
    "threeOrMoreRelative = df[df.SibSp + df.Parch >= 3]\n",
    "\n",
    "print(f\"Lone Traveller: {size(loneTraveller)}\\nOne Relative Traveller: {size(oneRelative)}\\nTwo Relative Traveller: {size(twoRelative)}\\nThree or more Relative Traveller: {size(threeOrMoreRelative)}\")"
   ]
  },
  {
   "cell_type": "markdown",
   "metadata": {},
   "source": [
    "As we can see from that data, most of the passengers did travel alone, without any siblings/spoused/parents or children."
   ]
  },
  {
   "cell_type": "code",
   "execution_count": 25,
   "metadata": {},
   "outputs": [
    {
     "name": "stdout",
     "output_type": "stream",
     "text": [
      "Lone Traveller Survivor: 163\n",
      "Lone Traveller Deceased: 374\n",
      "\n",
      "One Relative Survivor: 89\n",
      "One Relative Survivor: 72\n",
      "\n",
      "Two Relative Survivor: 59\n",
      "Two Relative Survivor: 43\n",
      "\n",
      "Three+ Relative Survivor: 31\n",
      "Three+ Relative Survivor: 60\n",
      "\n"
     ]
    }
   ],
   "source": [
    "loneSurvivor = loneTraveller[loneTraveller.Survived == 1]\n",
    "loneDead = loneTraveller[loneTraveller.Survived == 0]\n",
    "\n",
    "oneSurvivor = oneRelative[oneRelative.Survived == 1]\n",
    "oneDead = oneRelative[oneRelative.Survived == 0]\n",
    "\n",
    "twoSurvivor = twoRelative[twoRelative.Survived == 1]\n",
    "twoDead = twoRelative[twoRelative.Survived == 0]\n",
    "\n",
    "threeMoreSurvivor = threeOrMoreRelative[threeOrMoreRelative.Survived == 1]\n",
    "threeMoreDead = threeOrMoreRelative[threeOrMoreRelative.Survived == 0]\n",
    "\n",
    "print(f\"Lone Traveller Survivor: {size(loneSurvivor)}\\n\\\n",
    "Lone Traveller Deceased: {size(loneDead)}\\n\\n\\\n",
    "One Relative Survivor: {size(oneSurvivor)}\\n\\\n",
    "One Relative Survivor: {size(oneDead)}\\n\\n\\\n",
    "Two Relative Survivor: {size(twoSurvivor)}\\n\\\n",
    "Two Relative Survivor: {size(twoDead)}\\n\\n\\\n",
    "Three+ Relative Survivor: {size(threeMoreSurvivor)}\\n\\\n",
    "Three+ Relative Survivor: {size(threeMoreDead)}\\n\")"
   ]
  },
  {
   "cell_type": "code",
   "execution_count": 26,
   "metadata": {},
   "outputs": [],
   "source": [
    "loneTravellerSurvivalRatio = size(loneSurvivor)/size(loneTraveller)\n",
    "oneTravellerSurvivalRatio = size(oneSurvivor)/size(oneRelative)\n",
    "twoTravellerSurvivalRatio = size(twoSurvivor)/size(twoRelative)\n",
    "threeTravellerSurvivalRatio = size(threeMoreSurvivor)/size(threeOrMoreRelative)"
   ]
  },
  {
   "cell_type": "code",
   "execution_count": 27,
   "metadata": {},
   "outputs": [
    {
     "name": "stdout",
     "output_type": "stream",
     "text": [
      "[30.4, 69.6, 55.3, 44.7, 57.8, 42.2, 34.1, 65.9]\n"
     ]
    },
    {
     "data": {
      "text/plain": [
       "Text(0.5, 1.0, 'Survival ratio depending on travel group size (in %)')"
      ]
     },
     "execution_count": 27,
     "metadata": {},
     "output_type": "execute_result"
    },
    {
     "data": {
      "image/png": "[encoded data removed]",
      "text/plain": [
       "<Figure size 2000x500 with 1 Axes>"
      ]
     },
     "metadata": {},
     "output_type": "display_data"
    }
   ],
   "source": [
    "plt.figure(figsize=(20, 5))\n",
    "values = [\n",
    "        toPercent(loneTravellerSurvivalRatio),100-toPercent(loneTravellerSurvivalRatio),\\\n",
    "        toPercent(oneTravellerSurvivalRatio),100-toPercent(oneTravellerSurvivalRatio),\\\n",
    "        toPercent(twoTravellerSurvivalRatio),100-toPercent(twoTravellerSurvivalRatio),\\\n",
    "        toPercent(threeTravellerSurvivalRatio),100-toPercent(threeTravellerSurvivalRatio),\n",
    "        ]\n",
    "\n",
    "print(values)\n",
    "\n",
    "plt.bar([\"Solo Traveller Survival\",\"Solo Traveller Dead\",\"One Relative Survival\",\"One Relative Dead\",\"Two Relative Survival\",\"Two Relative Dead\",\"Three+ Relative Survival\",\"Three+ Relative Dead\",], values)\n",
    "plt.title(\"Survival ratio depending on travel group size (in %)\")"
   ]
  },
  {
   "cell_type": "markdown",
   "metadata": {},
   "source": [
    "From the graph above, it seems like passengers had a higher survival chance, when travelling with one (55%) or two relatives (58%). In contrary, travelling alone (30%) or with three or more relatives (34%) significantly decreased the survival probability. <br>\n",
    "\n",
    "Those numbers were not expected, there it would be interesting to determine, why the solo travellers did on average survive less frequently. One possibility would be that most solo travellers were male, and as we know only a very small percentage of male passengers did survive. This hypothesis is feasible, as, even though more common in the 1910s, women didn't travel as often alone as men did. The low survival ratio for 3+ relatives is way less surprising: Those passengers probably were families with parents and childrens, therefore they either had less ease to join the rescue boats, or they occupied seats in third class ([3rd class did survive way less](#udoes-the-passenger-class-influence-the-odd-of-survivingu))."
   ]
  },
  {
   "cell_type": "markdown",
   "metadata": {},
   "source": [
    "Let us analyse the gender repartition of lone travellers:"
   ]
  },
  {
   "cell_type": "code",
   "execution_count": 28,
   "metadata": {},
   "outputs": [],
   "source": [
    "loneMaleSurvivor = loneSurvivor[loneSurvivor.Sex == \"male\"]\n",
    "loneMaleDead = loneDead[loneDead.Sex == \"male\"]\n",
    "\n",
    "loneFemaleSurvivor = loneSurvivor[loneSurvivor.Sex == \"female\"]\n",
    "loneFemaleDead = loneDead[loneDead.Sex == \"female\"]"
   ]
  },
  {
   "cell_type": "code",
   "execution_count": 29,
   "metadata": {},
   "outputs": [
    {
     "name": "stdout",
     "output_type": "stream",
     "text": [
      "Lone traveller male survivor: 64\n",
      "Lone traveller male dead: 347\n",
      "\n",
      "Lone traveller female survivor: 99\n",
      "Lone traveller female dead: 27\n",
      "\n",
      "Lone Traveller Male survival ratio: 15.6%\n",
      "Lone Traveller Female survival ratio: 78.6%\n"
     ]
    }
   ],
   "source": [
    "print(f\"Lone traveller male survivor: {size(loneMaleSurvivor)}\\n\\\n",
    "Lone traveller male dead: {size(loneMaleDead)}\\n\\n\\\n",
    "Lone traveller female survivor: {size(loneFemaleSurvivor)}\\n\\\n",
    "Lone traveller female dead: {size(loneFemaleDead)}\\n\")\n",
    "\n",
    "print(f\"Lone Traveller Male survival ratio: {toPercent(size(loneMaleSurvivor)/size(loneTraveller[loneTraveller.Sex=='male']))}%\\n\\\n",
    "Lone Traveller Female survival ratio: {toPercent(size(loneFemaleSurvivor)/size(loneTraveller[loneTraveller.Sex=='female']))}%\")"
   ]
  },
  {
   "cell_type": "markdown",
   "metadata": {},
   "source": [
    "Indeed our assumption, that most lone passengers were male, was correct, therefore the low survival rate of lone passengers is explained. It is allthough interesting to notice the high disparity between genders again, as only 15% of solo travelling male survived, compared to 78% for female passengers.\n",
    "\n",
    "Therefore, we can conclude, that travelling alone doesn't increase or decrease your survival rate (the gender plays a more important role and is implicitly the deciding factor here again). In contrary, travelling as entire family (3+ relatives) does decrease your survival rate."
   ]
  },
  {
   "cell_type": "markdown",
   "metadata": {},
   "source": [
    "##### <u>Pay to survive, a valid concept in the Titanic?</u>"
   ]
  },
  {
   "cell_type": "markdown",
   "metadata": {},
   "source": [
    "We have already analyzed the impact of the ticket class with survival rate. As a ticket of a higher class is typically associated to a higher price, we will probably observe similar results.\n",
    "\n",
    "We may now for instance compute the average price for a ticket for survivors (total, male, female) to get a better idea of the correlations between price and sex as well."
   ]
  },
  {
   "cell_type": "code",
   "execution_count": 30,
   "metadata": {},
   "outputs": [
    {
     "name": "stdout",
     "output_type": "stream",
     "text": [
      "Average ticket price for survivors: 48.39540760233918\n",
      "Average ticket price for deads: 22.117886885245902\n",
      "Average ticket price for male survivors: 40.82148440366972\n",
      "Average ticket price for male deads: 21.96099294871795\n",
      "Average ticket price for female survivors: 51.93857339055794\n",
      "Average ticket price for female deads: 23.024385185185185\n"
     ]
    }
   ],
   "source": [
    "survivors = df[df.Survived == 1]\n",
    "deads = df[df.Survived == 0]\n",
    "\n",
    "survivorsMale = df[(df.Survived == 1) & (df.Sex == \"male\")]\n",
    "deadsMale = df[(df.Survived == 0) & (df.Sex == \"male\")]\n",
    "\n",
    "survivorsFemale = df[(df.Survived == 1) & (df.Sex == \"female\")]\n",
    "deadsFemale = df[(df.Survived == 0) & (df.Sex == \"female\")]\n",
    "\n",
    "averageSurvivorTicketPrice = survivors[\"Fare\"].mean()\n",
    "averageDeadTicketPrice = deads[\"Fare\"].mean()\n",
    "\n",
    "print(f\"Average ticket price for survivors: {averageSurvivorTicketPrice}\\nAverage ticket price for deads: {averageDeadTicketPrice}\")\n",
    "\n",
    "averageSurvivorTicketPriceMale = survivorsMale[\"Fare\"].mean()\n",
    "averageDeadTicketPriceMale = deadsMale[\"Fare\"].mean()\n",
    "\n",
    "print(f\"Average ticket price for male survivors: {averageSurvivorTicketPriceMale}\\nAverage ticket price for male deads: {averageDeadTicketPriceMale}\")\n",
    "\n",
    "averageSurvivorTicketPriceFemale = survivorsFemale[\"Fare\"].mean()\n",
    "averageDeadTicketPriceFemale = deadsFemale[\"Fare\"].mean()\n",
    "\n",
    "print(f\"Average ticket price for female survivors: {averageSurvivorTicketPriceFemale}\\nAverage ticket price for female deads: {averageDeadTicketPriceFemale}\")"
   ]
  },
  {
   "cell_type": "markdown",
   "metadata": {},
   "source": [
    "Now we can analyze the average fare for a given ticket class and compare the values."
   ]
  },
  {
   "cell_type": "code",
   "execution_count": 31,
   "metadata": {},
   "outputs": [
    {
     "name": "stdout",
     "output_type": "stream",
     "text": [
      "Average ticket price for first class: 84.1546875\n",
      "Average ticket price for second class: 20.662183152173913\n",
      "Average ticket price for third class: 13.675550101832993\n"
     ]
    }
   ],
   "source": [
    "firstClassTicketPrice = firstClass[\"Fare\"].mean()\n",
    "print(f\"Average ticket price for first class: {firstClassTicketPrice}\")\n",
    "\n",
    "secondClassTicketPrice = secondClass[\"Fare\"].mean()\n",
    "print(f\"Average ticket price for second class: {secondClassTicketPrice}\")\n",
    "\n",
    "thirdClassTicketPrice = thirdClass[\"Fare\"].mean()\n",
    "print(f\"Average ticket price for third class: {thirdClassTicketPrice}\")"
   ]
  },
  {
   "cell_type": "markdown",
   "metadata": {},
   "source": [
    "We can also compare the ticket price per Sex for a given class."
   ]
  },
  {
   "cell_type": "code",
   "execution_count": 32,
   "metadata": {},
   "outputs": [
    {
     "name": "stdout",
     "output_type": "stream",
     "text": [
      "Average ticket price for first class as a male: 67.22612704918032\n",
      "Average ticket price for first as a female class: 106.12579787234043\n",
      "\n",
      "Average ticket price for second class as a male: 19.74178240740741\n",
      "Average ticket price for second as a female class: 21.97012105263158\n",
      "\n",
      "Average ticket price for third class as a male: 12.661632564841499\n",
      "Average ticket price for third as a female class: 16.118809722222224\n"
     ]
    }
   ],
   "source": [
    "firstClassMaleTicketPrice = firstClass[(firstClass.Sex == \"male\")][\"Fare\"].mean()\n",
    "firstClassFemaleTicketPrice = firstClass[(firstClass.Sex == \"female\")][\"Fare\"].mean()\n",
    "\n",
    "print(f\"Average ticket price for first class as a male: {firstClassMaleTicketPrice}\\nAverage ticket price for first as a female class: {firstClassFemaleTicketPrice}\")\n",
    "\n",
    "secondClassMaleTicketPrice = secondClass[(secondClass.Sex == \"male\")][\"Fare\"].mean()\n",
    "secondClassFemaleTicketPrice = secondClass[(secondClass.Sex == \"female\")][\"Fare\"].mean()\n",
    "\n",
    "print(f\"\\nAverage ticket price for second class as a male: {secondClassMaleTicketPrice}\\nAverage ticket price for second as a female class: {secondClassFemaleTicketPrice}\")\n",
    "\n",
    "thridClassMaleTicketPrice = thirdClass[(thirdClass.Sex == \"male\")][\"Fare\"].mean()\n",
    "thirdClassFemaleTicketPrice = thirdClass[(thirdClass.Sex == \"female\")][\"Fare\"].mean()\n",
    "\n",
    "print(f\"\\nAverage ticket price for third class as a male: {thridClassMaleTicketPrice}\\nAverage ticket price for third as a female class: {thirdClassFemaleTicketPrice}\")"
   ]
  },
  {
   "cell_type": "markdown",
   "metadata": {},
   "source": [
    "We can see quite some differences, are those also confirmed in the statistical analysis if we compute Q1, mean value, median value and Q3?"
   ]
  },
  {
   "cell_type": "code",
   "execution_count": 33,
   "metadata": {},
   "outputs": [
    {
     "name": "stdout",
     "output_type": "stream",
     "text": [
      "\n",
      "First class male: Min: 0.0 Q1: 27.7281  Mean: 67 Median: 41 Q3: 78.459375 Max: 512.3292\n",
      "\n",
      "First class female: Min: 25.9292 Q1: 57.2448  Mean: 106 Median: 83 Q3: 134.5 Max: 512.3292\n"
     ]
    }
   ],
   "source": [
    "firstClassMale = firstClass[firstClass.Sex == \"male\"]\n",
    "firstClassFemale = firstClass[firstClass.Sex == \"female\"]\n",
    "\n",
    "f_c_m_min = firstClassMale[\"Fare\"].min()\n",
    "f_c_m_q1 = firstClassMale[\"Fare\"].quantile(0.25)\n",
    "f_c_m_q3 = firstClassMale[\"Fare\"].quantile(0.75)\n",
    "f_c_m_mean = firstClassMale[\"Fare\"].mean()\n",
    "f_c_m_median = firstClassMale[\"Fare\"].median()\n",
    "f_c_m_max = firstClassMale[\"Fare\"].max()\n",
    "\n",
    "f_c_f_min = firstClassFemale[\"Fare\"].min()\n",
    "f_c_f_q1 = firstClassFemale[\"Fare\"].quantile(0.25)\n",
    "f_c_f_q3 = firstClassFemale[\"Fare\"].quantile(0.75)\n",
    "f_c_f_mean = firstClassFemale[\"Fare\"].mean()\n",
    "f_c_f_median = firstClassFemale[\"Fare\"].median()\n",
    "f_c_f_max = firstClassFemale[\"Fare\"].max()\n",
    "\n",
    "print(f\"\\nFirst class male: Min: {f_c_m_min} Q1: {f_c_m_q1}  Mean: {round(f_c_m_mean)} Median: {round(f_c_m_median)} Q3: {f_c_m_q3} Max: {f_c_m_max}\")\n",
    "print(f\"\\nFirst class female: Min: {f_c_f_min} Q1: {f_c_f_q1}  Mean: {round(f_c_f_mean)} Median: {round(f_c_f_median)} Q3: {f_c_f_q3} Max: {f_c_f_max}\")"
   ]
  },
  {
   "cell_type": "code",
   "execution_count": 34,
   "metadata": {},
   "outputs": [
    {
     "data": {
      "text/plain": [
       "Text(0.5, 1.0, 'Female ticket price distribution in first class')"
      ]
     },
     "execution_count": 34,
     "metadata": {},
     "output_type": "execute_result"
    },
    {
     "data": {
      "image/png": "[encoded data removed]",
      "text/plain": [
       "<Figure size 1500x500 with 2 Axes>"
      ]
     },
     "metadata": {},
     "output_type": "display_data"
    }
   ],
   "source": [
    "# Plot the price for firstClassMale and firstClassFemale, each price should have a count of tickets with that price\n",
    "plt.figure(figsize=(15, 5))\n",
    "plt.subplot(121)\n",
    "plt.hist(firstClassMale[\"Fare\"], bins=50)\n",
    "plt.title(\"Male ticket price distribution in first class\")\n",
    "\n",
    "plt.subplot(122)\n",
    "plt.hist(firstClassFemale[\"Fare\"], bins=50)\n",
    "plt.title(\"Female ticket price distribution in first class\")"
   ]
  },
  {
   "cell_type": "markdown",
   "metadata": {},
   "source": [
    "Generally speaking, we can observe a higher price for female passager no matter the ticket class, compared to male. As the fare attribute is quite similar to the ticket class, it can be ignored when building a decision tree for instance (for now)."
   ]
  },
  {
   "cell_type": "markdown",
   "metadata": {},
   "source": [
    "#### <u>The origin port, does it make a difference?</u>"
   ]
  },
  {
   "cell_type": "markdown",
   "metadata": {},
   "source": [
    "The passengers had to possibility to board at 3 different initial ports:\n",
    "\n",
    "C = Cherbourg, Q = Queenstown, S = Southampton\n",
    "\n",
    "The titanic first stopped at S, then at C and finally at Q.\n",
    "\n",
    "Let us analyze the impact of the start port with the survival rate:"
   ]
  },
  {
   "cell_type": "code",
   "execution_count": 35,
   "metadata": {},
   "outputs": [
    {
     "name": "stdout",
     "output_type": "stream",
     "text": [
      "Port S: 644\n",
      "Port C: 168\n",
      "Port Q: 77\n",
      "\n",
      "Port S survivor: 217\n",
      "Port S dead: 427\n",
      "Port S survival ratio: 33.7%\n",
      "\n",
      "Port C survivor: 93\n",
      "Port C dead: 75\n",
      "Port C survival ratio: 55.4%\n",
      "\n",
      "Port Q survivor: 30\n",
      "Port Q dead: 47\n",
      "Port Q survival ratio: 39.0%\n",
      "\n"
     ]
    }
   ],
   "source": [
    "portS = df[df.Embarked == \"S\"]\n",
    "portC = df[df.Embarked == \"C\"]\n",
    "portQ = df[df.Embarked == \"Q\"]\n",
    "\n",
    "print(f\"Port S: {size(portS)}\\nPort C: {size(portC)}\\nPort Q: {size(portQ)}\\n\")\n",
    "\n",
    "portSSurvivor = portS[portS.Survived == 1]\n",
    "portSDead = portS[portS.Survived == 0]\n",
    "portSSurvivalRatio = size(portSSurvivor)/size(portS)\n",
    "\n",
    "portCSurvivor = portC[portC.Survived == 1]\n",
    "portCDead = portC[portC.Survived == 0]\n",
    "portCSurvivalRatio = size(portCSurvivor)/size(portC)\n",
    "\n",
    "portQSurvivor = portQ[portQ.Survived == 1]\n",
    "portQDead = portQ[portQ.Survived == 0]\n",
    "portQSurvivalRatio = size(portQSurvivor)/size(portQ)\n",
    "\n",
    "print(f\"Port S survivor: {size(portSSurvivor)}\\nPort S dead: {size(portSDead)}\\nPort S survival ratio: {toPercent(portSSurvivalRatio)}%\\n\")\n",
    "print(f\"Port C survivor: {size(portCSurvivor)}\\nPort C dead: {size(portCDead)}\\nPort C survival ratio: {toPercent(portCSurvivalRatio)}%\\n\")\n",
    "print(f\"Port Q survivor: {size(portQSurvivor)}\\nPort Q dead: {size(portQDead)}\\nPort Q survival ratio: {toPercent(portQSurvivalRatio)}%\\n\")\n"
   ]
  },
  {
   "cell_type": "markdown",
   "metadata": {},
   "source": [
    "The port Cherbourg seems to have a higher survival rate, but the amount of passengers was not high, so we cannot conclude for sure about the surival rate using this attribute. We can nevertheless observe a very low survival rate for passengers boarding in Southampton.\n",
    "\n",
    "Is this rate maybe related to the nature of the passengers (Sex, Ticket Class)?"
   ]
  },
  {
   "cell_type": "code",
   "execution_count": 36,
   "metadata": {},
   "outputs": [
    {
     "name": "stdout",
     "output_type": "stream",
     "text": [
      "Port S first class: 127\n",
      "Port S second class: 164\n",
      "Port S third class: 353\n",
      "\n",
      "Port C first class: 85\n",
      "Port C second class: 17\n",
      "Port C third class: 66\n",
      "\n",
      "Port Q first class: 2\n",
      "Port Q second class: 3\n",
      "Port Q third class: 72\n",
      "\n"
     ]
    }
   ],
   "source": [
    "portSFirstClass = portS[portS.Pclass == 1]\n",
    "portSSecondClass = portS[portS.Pclass == 2]\n",
    "portSThirdClass = portS[portS.Pclass == 3]\n",
    "\n",
    "portCFirstClass = portC[portC.Pclass == 1]\n",
    "portCSecondClass = portC[portC.Pclass == 2]\n",
    "portCThirdClass = portC[portC.Pclass == 3]\n",
    "\n",
    "portQFirstClass = portQ[portQ.Pclass == 1]\n",
    "portQSecondClass = portQ[portQ.Pclass == 2]\n",
    "portQThirdClass = portQ[portQ.Pclass == 3]\n",
    "\n",
    "print(f\"Port S first class: {size(portSFirstClass)}\\nPort S second class: {size(portSSecondClass)}\\nPort S third class: {size(portSThirdClass)}\\n\")\n",
    "print(f\"Port C first class: {size(portCFirstClass)}\\nPort C second class: {size(portCSecondClass)}\\nPort C third class: {size(portCThirdClass)}\\n\")\n",
    "print(f\"Port Q first class: {size(portQFirstClass)}\\nPort Q second class: {size(portQSecondClass)}\\nPort Q third class: {size(portQThirdClass)}\\n\")"
   ]
  },
  {
   "cell_type": "markdown",
   "metadata": {},
   "source": [
    "By comparing the passenger class to the initial port, we have a very interesting observation regarding the port of Queenstown. Even though almost all passengers are from the third class, close to 40% survived. We may therefore compare for each port and class the survival rate:"
   ]
  },
  {
   "cell_type": "code",
   "execution_count": 37,
   "metadata": {},
   "outputs": [
    {
     "name": "stdout",
     "output_type": "stream",
     "text": [
      "Port S first class survival ratio: 58.3%\n",
      "Port S second class survival ratio: 46.3%\n",
      "Port S third class survival ratio: 19.0%\n",
      "\n",
      "Port C first class survival ratio: 69.4%\n",
      "Port C second class survival ratio: 52.9%\n",
      "Port C third class survival ratio: 37.9%\n",
      "\n",
      "Port Q first class survival ratio: 50.0%\n",
      "Port Q second class survival ratio: 66.7%\n",
      "Port Q third class survival ratio: 37.5%\n",
      "\n"
     ]
    }
   ],
   "source": [
    "portSFirstClassSurvivor = portSFirstClass[portSFirstClass.Survived == 1]\n",
    "portSFirstClassDead = portSFirstClass[portSFirstClass.Survived == 0]\n",
    "portSFirstClassSurvivalRatio = size(portSFirstClassSurvivor)/size(portSFirstClass)\n",
    "\n",
    "portSSecondClassSurvivor = portSSecondClass[portSSecondClass.Survived == 1]\n",
    "portSSecondClassDead = portSSecondClass[portSSecondClass.Survived == 0]\n",
    "portSSecondClassSurvivalRatio = size(portSSecondClassSurvivor)/size(portSSecondClass)\n",
    "\n",
    "portSThirdClassSurvivor = portSThirdClass[portSThirdClass.Survived == 1]\n",
    "portSThirdClassDead = portSThirdClass[portSThirdClass.Survived == 0]\n",
    "portSThirdClassSurvivalRatio = size(portSThirdClassSurvivor)/size(portSThirdClass)\n",
    "\n",
    "print(f\"Port S first class survival ratio: {toPercent(portSFirstClassSurvivalRatio)}%\")\n",
    "print(f\"Port S second class survival ratio: {toPercent(portSSecondClassSurvivalRatio)}%\")\n",
    "print(f\"Port S third class survival ratio: {toPercent(portSThirdClassSurvivalRatio)}%\\n\")\n",
    "\n",
    "portCFirstClassSurvivor = portCFirstClass[portCFirstClass.Survived == 1]\n",
    "portCFirstClassDead = portCFirstClass[portCFirstClass.Survived == 0]\n",
    "portCFirstClassSurvivalRatio = size(portCFirstClassSurvivor)/size(portCFirstClass)\n",
    "\n",
    "portCSecondClassSurvivor = portCSecondClass[portCSecondClass.Survived == 1]\n",
    "portCSecondClassDead = portCSecondClass[portCSecondClass.Survived == 0]\n",
    "portCSecondClassSurvivalRatio = size(portCSecondClassSurvivor)/size(portCSecondClass)\n",
    "\n",
    "portCThirdClassSurvivor = portCThirdClass[portCThirdClass.Survived == 1]\n",
    "portCThirdClassDead = portCThirdClass[portCThirdClass.Survived == 0]\n",
    "portCThirdClassSurvivalRatio = size(portCThirdClassSurvivor)/size(portCThirdClass)\n",
    "\n",
    "print(f\"Port C first class survival ratio: {toPercent(portCFirstClassSurvivalRatio)}%\")\n",
    "print(f\"Port C second class survival ratio: {toPercent(portCSecondClassSurvivalRatio)}%\")\n",
    "print(f\"Port C third class survival ratio: {toPercent(portCThirdClassSurvivalRatio)}%\\n\")\n",
    "\n",
    "portQFirstClassSurvivor = portQFirstClass[portQFirstClass.Survived == 1]\n",
    "portQFirstClassDead = portQFirstClass[portQFirstClass.Survived == 0]\n",
    "portQFirstClassSurvivalRatio = size(portQFirstClassSurvivor)/size(portQFirstClass)\n",
    "\n",
    "portQSecondClassSurvivor = portQSecondClass[portQSecondClass.Survived == 1]\n",
    "portQSecondClassDead = portQSecondClass[portQSecondClass.Survived == 0]\n",
    "portQSecondClassSurvivalRatio = size(portQSecondClassSurvivor)/size(portQSecondClass)\n",
    "\n",
    "portQThirdClassSurvivor = portQThirdClass[portQThirdClass.Survived == 1]\n",
    "portQThirdClassDead = portQThirdClass[portQThirdClass.Survived == 0]\n",
    "portQThirdClassSurvivalRatio = size(portQThirdClassSurvivor)/size(portQThirdClass)\n",
    "\n",
    "print(f\"Port Q first class survival ratio: {toPercent(portQFirstClassSurvivalRatio)}%\")\n",
    "print(f\"Port Q second class survival ratio: {toPercent(portQSecondClassSurvivalRatio)}%\")\n",
    "print(f\"Port Q third class survival ratio: {toPercent(portQThirdClassSurvivalRatio)}%\\n\")\n"
   ]
  },
  {
   "cell_type": "markdown",
   "metadata": {},
   "source": [
    "Let us now take a look at the sex of the passengers for the different ports:"
   ]
  },
  {
   "cell_type": "code",
   "execution_count": 38,
   "metadata": {},
   "outputs": [
    {
     "name": "stdout",
     "output_type": "stream",
     "text": [
      "Port S Male: 441\n",
      "Port S Female: 203\n",
      "\n",
      "Port C Male: 95\n",
      "Port C Female: 73\n",
      "\n",
      "Port Q Male: 41\n",
      "Port Q Female: 36\n",
      "\n"
     ]
    }
   ],
   "source": [
    "portSMale = portS[portS.Sex == \"male\"]\n",
    "portSFemale = portS[portS.Sex == \"female\"]\n",
    "\n",
    "portCMale = portC[portC.Sex == \"male\"]\n",
    "portCFemale = portC[portC.Sex == \"female\"]\n",
    "\n",
    "portQMale = portQ[portQ.Sex == \"male\"]\n",
    "portQFemale = portQ[portQ.Sex == \"female\"]\n",
    "\n",
    "print(f\"Port S Male: {size(portSMale)}\\nPort S Female: {size(portSFemale)}\\n\")\n",
    "print(f\"Port C Male: {size(portCMale)}\\nPort C Female: {size(portCFemale)}\\n\")\n",
    "print(f\"Port Q Male: {size(portQMale)}\\nPort Q Female: {size(portQFemale)}\\n\")"
   ]
  },
  {
   "cell_type": "markdown",
   "metadata": {},
   "source": [
    "We can see that on port S there were mostly men (66%), on port C and Q way more even gender repartition.\n",
    "This explains well why even for port Q, where almost all the passengers were from third class, quite a decent proportion survived.\n",
    "\n",
    "Once again, gender seems to play quite a high impact on the survival rate combined with the ticket class.\n",
    "\n",
    "If we think about it, there are reasonable explanation for the gender repartition (enhanced by doing a bit of internet research):\n",
    "\n",
    "Port Southampton:\n",
    "- Many crew members boarded at Southampton, and a significant portion of the crew were men.\n",
    "- A large number of third-class passengers boarded at Southampton. During that period, third-class tickets were often purchased by men traveling alone or in groups, seeking work or new opportunities in America.\n",
    "- The higher number of men in third class could also reflect the socioeconomic conditions, where men often migrated first, intending to send for their families later.\n",
    "\n",
    "Port Cherbourg:\n",
    "- Cherbourg was a stop primarily for first and third class passengers.\n",
    "- The balance between male and female passengers is more even compared to Southampton, which can be attributed to the nature of travel for wealthier families and individuals who could afford first and second-class tickets.\n",
    "- Wealthier passengers, including families, couples, and single travelers, often boarded at Cherbourg. This reflects a more balanced demographic between genders (and a bit higher male proportion likely due to the additional third class passengers)\n",
    "\n",
    "Port Queenstown:\n",
    "- Queenstown was primarily a stop for third-class passengers, many of whom were emigrants from Ireland:\n",
    "- The relatively balanced number of male and female passengers reflects family groups and individuals traveling together to start new lives in America.\n",
    "- The smaller total number of passengers from Queenstown compared to Southampton is due to the smaller capacity of the port and fewer available tickets for boarding there."
   ]
  },
  {
   "cell_type": "markdown",
   "metadata": {},
   "source": [
    "### <u>Now that we got the data, what can we do?</u>"
   ]
  },
  {
   "cell_type": "markdown",
   "metadata": {},
   "source": [
    "#### <u>Decision Tree Version 1</u>"
   ]
  },
  {
   "cell_type": "markdown",
   "metadata": {},
   "source": [
    "With all our data, let us recap what we found out about each attribute:\n",
    "- PassengerId - Not relevant\n",
    "- Passenger Class - Very important, will definitely be used for classification\n",
    "- Name - Not relevant\n",
    "- Sex - Very important, will definitely be used for classification\n",
    "- Age - Not very signicative, except when combined with gender, or relevant for high children survival rate and low senior survival rate\n",
    "- Number of siblings/spouses on Titanic - Relevant, decreases the survival rate if bigger group size or alone (due to most lone travelers being male)\n",
    "- Number of parents/children on Titanic - Relevant, decreases the survival rate if bigger group size or alone (due to most lone travelers being male)\n",
    "- Ticket Number - Not relevant\n",
    "- Fare (Price paid) - Relevant, does strongly correlate with the passenger class, as higher class tickets were more pricey\n",
    "- Cabin Number - Not relevant, not enough data to properly work with\n",
    "- Embarkation Port - Relevant (but most likely is strongly tied to gender and ticket class once again)\n",
    "\n",
    "Therefore, for our decision tree, we will be using following attributes:\n",
    "- Sex\n",
    "- Passenger Class\n",
    "- Number of co-travelers\n",
    "- Age\n",
    "- Fare\n",
    "- Embarkation port\n",
    "\n",
    "The first 4 attributes can be viewed as quite independant, with the last two being strongly tied to either the passenger class or the gender and passenger class.\n",
    "\n",
    "We can therefore create a new dataset containing only those attributes, and with fare for instance rounded."
   ]
  },
  {
   "cell_type": "code",
   "execution_count": 39,
   "metadata": {},
   "outputs": [
    {
     "data": {
      "text/html": [
       "<div>\n",
       "<style scoped>\n",
       "    .dataframe tbody tr th:only-of-type {\n",
       "        vertical-align: middle;\n",
       "    }\n",
       "\n",
       "    .dataframe tbody tr th {\n",
       "        vertical-align: top;\n",
       "    }\n",
       "\n",
       "    .dataframe thead th {\n",
       "        text-align: right;\n",
       "    }\n",
       "</style>\n",
       "<table border=\"1\" class=\"dataframe\">\n",
       "  <thead>\n",
       "    <tr style=\"text-align: right;\">\n",
       "      <th></th>\n",
       "      <th>Survived</th>\n",
       "      <th>Pclass</th>\n",
       "      <th>Sex</th>\n",
       "      <th>Age</th>\n",
       "      <th>CoTravelers</th>\n",
       "      <th>Fare</th>\n",
       "      <th>Embarked</th>\n",
       "    </tr>\n",
       "  </thead>\n",
       "  <tbody>\n",
       "    <tr>\n",
       "      <th>0</th>\n",
       "      <td>0</td>\n",
       "      <td>3</td>\n",
       "      <td>male</td>\n",
       "      <td>22.0</td>\n",
       "      <td>1</td>\n",
       "      <td>7.0</td>\n",
       "      <td>S</td>\n",
       "    </tr>\n",
       "    <tr>\n",
       "      <th>1</th>\n",
       "      <td>1</td>\n",
       "      <td>1</td>\n",
       "      <td>female</td>\n",
       "      <td>38.0</td>\n",
       "      <td>1</td>\n",
       "      <td>71.0</td>\n",
       "      <td>C</td>\n",
       "    </tr>\n",
       "    <tr>\n",
       "      <th>2</th>\n",
       "      <td>1</td>\n",
       "      <td>3</td>\n",
       "      <td>female</td>\n",
       "      <td>26.0</td>\n",
       "      <td>0</td>\n",
       "      <td>8.0</td>\n",
       "      <td>S</td>\n",
       "    </tr>\n",
       "    <tr>\n",
       "      <th>3</th>\n",
       "      <td>1</td>\n",
       "      <td>1</td>\n",
       "      <td>female</td>\n",
       "      <td>35.0</td>\n",
       "      <td>1</td>\n",
       "      <td>53.0</td>\n",
       "      <td>S</td>\n",
       "    </tr>\n",
       "    <tr>\n",
       "      <th>4</th>\n",
       "      <td>0</td>\n",
       "      <td>3</td>\n",
       "      <td>male</td>\n",
       "      <td>35.0</td>\n",
       "      <td>0</td>\n",
       "      <td>8.0</td>\n",
       "      <td>S</td>\n",
       "    </tr>\n",
       "  </tbody>\n",
       "</table>\n",
       "</div>"
      ],
      "text/plain": [
       "   Survived  Pclass     Sex   Age  CoTravelers  Fare Embarked\n",
       "0         0       3    male  22.0            1   7.0        S\n",
       "1         1       1  female  38.0            1  71.0        C\n",
       "2         1       3  female  26.0            0   8.0        S\n",
       "3         1       1  female  35.0            1  53.0        S\n",
       "4         0       3    male  35.0            0   8.0        S"
      ]
     },
     "execution_count": 39,
     "metadata": {},
     "output_type": "execute_result"
    }
   ],
   "source": [
    "df_copy = df.copy()\n",
    "df_copy['CoTravelers'] = df_copy['SibSp'] + df_copy['Parch']\n",
    "df_copy['Fare'] = df_copy['Fare'].round()\n",
    "df_copy.dropna(subset=['Age'], inplace=True)\n",
    "df_copy.dropna(subset=['Embarked'], inplace=True)\n",
    "df_new = df_copy[['Survived', 'Pclass', 'Sex', 'Age', 'CoTravelers', 'Fare', 'Embarked']]\n",
    "df_new.to_csv('Data/titanic_dataset_for_decision_tree_v1.csv', index=False, sep=';')\n",
    "df_new.head()"
   ]
  },
  {
   "cell_type": "markdown",
   "metadata": {},
   "source": [
    "We got a precision of about 61%!"
   ]
  },
  {
   "cell_type": "markdown",
   "metadata": {},
   "source": [
    "#### <u>Decision Tree Version 2</u>"
   ]
  },
  {
   "cell_type": "markdown",
   "metadata": {},
   "source": [
    "We can now improve our previous shortcomings, being:\n",
    "- Properly categorizing attributes in our trainingset already (sex => int, embarked => int)\n",
    "- Take a look at dividing the fare and age into different categories ( < 50, 50 - 100, 100 - 200, > 200 for instance)"
   ]
  },
  {
   "cell_type": "code",
   "execution_count": 40,
   "metadata": {},
   "outputs": [
    {
     "data": {
      "text/html": [
       "<div>\n",
       "<style scoped>\n",
       "    .dataframe tbody tr th:only-of-type {\n",
       "        vertical-align: middle;\n",
       "    }\n",
       "\n",
       "    .dataframe tbody tr th {\n",
       "        vertical-align: top;\n",
       "    }\n",
       "\n",
       "    .dataframe thead th {\n",
       "        text-align: right;\n",
       "    }\n",
       "</style>\n",
       "<table border=\"1\" class=\"dataframe\">\n",
       "  <thead>\n",
       "    <tr style=\"text-align: right;\">\n",
       "      <th></th>\n",
       "      <th>Survived</th>\n",
       "      <th>Pclass</th>\n",
       "      <th>Sex</th>\n",
       "      <th>Age</th>\n",
       "      <th>Fare</th>\n",
       "      <th>Embarked</th>\n",
       "      <th>Relatives</th>\n",
       "    </tr>\n",
       "  </thead>\n",
       "  <tbody>\n",
       "    <tr>\n",
       "      <th>0</th>\n",
       "      <td>0</td>\n",
       "      <td>3</td>\n",
       "      <td>0</td>\n",
       "      <td>2</td>\n",
       "      <td>0</td>\n",
       "      <td>0</td>\n",
       "      <td>1</td>\n",
       "    </tr>\n",
       "    <tr>\n",
       "      <th>1</th>\n",
       "      <td>1</td>\n",
       "      <td>1</td>\n",
       "      <td>1</td>\n",
       "      <td>2</td>\n",
       "      <td>1</td>\n",
       "      <td>1</td>\n",
       "      <td>1</td>\n",
       "    </tr>\n",
       "    <tr>\n",
       "      <th>2</th>\n",
       "      <td>1</td>\n",
       "      <td>3</td>\n",
       "      <td>1</td>\n",
       "      <td>2</td>\n",
       "      <td>0</td>\n",
       "      <td>0</td>\n",
       "      <td>0</td>\n",
       "    </tr>\n",
       "    <tr>\n",
       "      <th>3</th>\n",
       "      <td>1</td>\n",
       "      <td>1</td>\n",
       "      <td>1</td>\n",
       "      <td>2</td>\n",
       "      <td>1</td>\n",
       "      <td>0</td>\n",
       "      <td>1</td>\n",
       "    </tr>\n",
       "    <tr>\n",
       "      <th>4</th>\n",
       "      <td>0</td>\n",
       "      <td>3</td>\n",
       "      <td>0</td>\n",
       "      <td>2</td>\n",
       "      <td>0</td>\n",
       "      <td>0</td>\n",
       "      <td>0</td>\n",
       "    </tr>\n",
       "  </tbody>\n",
       "</table>\n",
       "</div>"
      ],
      "text/plain": [
       "   Survived  Pclass  Sex Age Fare  Embarked  Relatives\n",
       "0         0       3    0   2    0         0          1\n",
       "1         1       1    1   2    1         1          1\n",
       "2         1       3    1   2    0         0          0\n",
       "3         1       1    1   2    1         0          1\n",
       "4         0       3    0   2    0         0          0"
      ]
     },
     "execution_count": 40,
     "metadata": {},
     "output_type": "execute_result"
    }
   ],
   "source": [
    "df_decision_tree_2 = df.copy()\n",
    "\n",
    "# Drop columns\n",
    "df_decision_tree_2.drop(['PassengerId','Ticket', 'Cabin', 'Name'], axis=1, inplace=True)\n",
    "\n",
    "# Transform Sex into integer\n",
    "df_decision_tree_2[\"Sex\"] = df_decision_tree_2[\"Sex\"].map({'male': 0, 'female': 1})\n",
    "df_decision_tree_2[\"Embarked\"] = df_decision_tree_2[\"Embarked\"].map({'S': 0, 'C': 1, 'Q': 2})\n",
    "df_decision_tree_2[\"Embarked\"] = df_decision_tree_2[\"Embarked\"].fillna(-1).astype(int)\n",
    "\n",
    "# Compute relatives feature\n",
    "df_decision_tree_2['Relatives'] = df_decision_tree_2['SibSp'] + df_decision_tree_2['Parch']\n",
    "df_decision_tree_2.drop(['SibSp', 'Parch'], axis=1, inplace=True)\n",
    "\n",
    "# Group fare into 4 categories, < 50, 50 - 100, 100 - 200, > 200\n",
    "df_decision_tree_2['Fare'] = pd.cut(df_decision_tree_2['Fare'], bins=[0, 50, 100, 200, 1000], labels=[0, 1, 2, 3])\n",
    "\n",
    "# Age split: Children (0 -> 13), Teenagers (14 -> 18), Adults(18 -> 60), Senior Citizen (60 -> inf)\n",
    "df_decision_tree_2['Age'] = pd.cut(df_decision_tree_2['Age'], bins=[0, 13, 18, 60, 100], labels=[0, 1, 2, 3])\n",
    "\n",
    "# For every row, any missing value will be replaced by 0\n",
    "df_decision_tree_2_filling = df_decision_tree_2.copy()\n",
    "df_decision_tree_2_filling.fillna(0, inplace=True)\n",
    "\n",
    "df_decision_tree_2_filling.to_csv('Data/titanic_dataset_for_decision_tree_v2.csv', index=False, sep=';')\n",
    "df_decision_tree_2_filling.head()\n"
   ]
  },
  {
   "cell_type": "markdown",
   "metadata": {},
   "source": [
    "By spliting the age and fare into distinct categories, we observed an increase to 70% (+ 9%)"
   ]
  },
  {
   "cell_type": "markdown",
   "metadata": {},
   "source": [
    "#### <u>Decision Tree Version 3 + 4 + 5 + 6</u>"
   ]
  },
  {
   "cell_type": "markdown",
   "metadata": {},
   "source": [
    "We will now use the same changes as for the decision tree version 2, but will additionaly have a better value replacement policy by:\n",
    "- taking the most common value in this column (mode)\n",
    "- taking the middle values in this column (median)\n",
    "- using KNN (K-Nearest Neighbors Imputation)\n",
    "- using MICE (Multivariate Imputation by Chained Equations)"
   ]
  },
  {
   "cell_type": "code",
   "execution_count": 41,
   "metadata": {},
   "outputs": [
    {
     "name": "stdout",
     "output_type": "stream",
     "text": [
      "Most common values:\n",
      "\n",
      "+-----------------------+---------+\n",
      "| Feature               |   Value |\n",
      "+=======================+=========+\n",
      "| Most common Pclass    |       3 |\n",
      "+-----------------------+---------+\n",
      "| Most common Sex       |       0 |\n",
      "+-----------------------+---------+\n",
      "| Most common Age       |       2 |\n",
      "+-----------------------+---------+\n",
      "| Most common Relatives |       0 |\n",
      "+-----------------------+---------+\n",
      "| Most common Fare      |       0 |\n",
      "+-----------------------+---------+\n",
      "| Most common Embarked  |       0 |\n",
      "+-----------------------+---------+\n"
     ]
    }
   ],
   "source": [
    "df_decision_tree_3 = df_decision_tree_2.copy()\n",
    "\n",
    "# List of columns to impute\n",
    "columns_to_impute = ['Pclass', 'Sex', 'Age', 'Relatives', 'Fare', 'Embarked']\n",
    "\n",
    "# Dictionary to store the most common values for each column\n",
    "most_common_values = {}\n",
    "\n",
    "# Impute missing values\n",
    "for column in columns_to_impute:\n",
    "    most_common_value = df_decision_tree_3[column].mode()[0]\n",
    "    df_decision_tree_3[column] = df_decision_tree_3[column].fillna(most_common_value).astype(int) \\\n",
    "        if column != 'Embarked' else df_decision_tree_3[column].replace(-1, most_common_value)\n",
    "    most_common_values[column] = most_common_value\n",
    "\n",
    "# Save the cleaned DataFrame\n",
    "df_decision_tree_3.to_csv('Data/titanic_dataset_for_decision_tree_v3.csv', index=False, sep=';')\n",
    "\n",
    "# Prepare data for printing\n",
    "data = [[f\"Most common {col}\", most_common_values[col]] for col in columns_to_impute]\n",
    "\n",
    "# Print the most common values\n",
    "print(\"Most common values:\\n\")\n",
    "print(tabulate(data, headers=[\"Feature\", \"Value\"], tablefmt=\"grid\"))"
   ]
  },
  {
   "cell_type": "code",
   "execution_count": 42,
   "metadata": {},
   "outputs": [
    {
     "name": "stdout",
     "output_type": "stream",
     "text": [
      "Mean values:\n",
      "\n",
      "+----------------+---------+\n",
      "| Feature        |   Value |\n",
      "+================+=========+\n",
      "| Mean Pclass    |       2 |\n",
      "+----------------+---------+\n",
      "| Mean Sex       |       0 |\n",
      "+----------------+---------+\n",
      "| Mean Age       |       1 |\n",
      "+----------------+---------+\n",
      "| Mean Relatives |       0 |\n",
      "+----------------+---------+\n",
      "| Mean Fare      |       0 |\n",
      "+----------------+---------+\n",
      "| Mean Embarked  |       0 |\n",
      "+----------------+---------+\n"
     ]
    }
   ],
   "source": [
    "df_decision_tree_4 = df_decision_tree_2.copy()\n",
    "\n",
    "# List of columns to impute\n",
    "columns_to_impute = ['Pclass', 'Sex', 'Age', 'Relatives', 'Fare', 'Embarked']\n",
    "\n",
    "# Dictionary to store the mean values for each column\n",
    "mean_values = {}\n",
    "\n",
    "# Ensure all columns are treated as numerical and impute missing values with the mean\n",
    "for column in columns_to_impute:\n",
    "    # Convert to numerical type if necessary\n",
    "    df_decision_tree_4[column] = pd.to_numeric(df_decision_tree_4[column], errors='coerce')\n",
    "    # Calculate the mean\n",
    "    mean_value = int(df_decision_tree_4[column].mean())\n",
    "    # Fill missing values with the mean\n",
    "    df_decision_tree_4[column] = df_decision_tree_4[column].fillna(mean_value).astype(int)\n",
    "    mean_values[column] = mean_value\n",
    "\n",
    "# Save the cleaned DataFrame\n",
    "df_decision_tree_4.to_csv('Data/titanic_dataset_for_decision_tree_v4.csv', index=False, sep=';')\n",
    "\n",
    "# Prepare data for printing\n",
    "data = [[f\"Mean {col}\", mean_values[col]] for col in columns_to_impute]\n",
    "\n",
    "# Print the mean values\n",
    "print(\"Mean values:\\n\")\n",
    "print(tabulate(data, headers=[\"Feature\", \"Value\"], tablefmt=\"grid\"))"
   ]
  },
  {
   "cell_type": "code",
   "execution_count": 43,
   "metadata": {},
   "outputs": [
    {
     "name": "stderr",
     "output_type": "stream",
     "text": [
      "/opt/miniconda3/envs/py310/lib/python3.10/site-packages/pandas/core/arrays/base.py:568: RuntimeWarning: invalid value encountered in cast\n",
      "  result = np.asarray(self, dtype=dtype)\n",
      "/opt/miniconda3/envs/py310/lib/python3.10/site-packages/pandas/core/arrays/base.py:568: RuntimeWarning: invalid value encountered in cast\n",
      "  result = np.asarray(self, dtype=dtype)\n",
      "/opt/miniconda3/envs/py310/lib/python3.10/site-packages/pandas/core/arrays/base.py:568: RuntimeWarning: invalid value encountered in cast\n",
      "  result = np.asarray(self, dtype=dtype)\n",
      "/opt/miniconda3/envs/py310/lib/python3.10/site-packages/pandas/core/arrays/base.py:568: RuntimeWarning: invalid value encountered in cast\n",
      "  result = np.asarray(self, dtype=dtype)\n"
     ]
    }
   ],
   "source": [
    "from sklearn.impute import KNNImputer\n",
    "\n",
    "df_decision_tree_5 = df_decision_tree_2.copy()\n",
    "\n",
    "# List of columns to impute\n",
    "columns_to_impute = ['Pclass', 'Sex', 'Age', 'Relatives', 'Fare', 'Embarked']\n",
    "\n",
    "# Select only the columns to impute\n",
    "df_to_impute = df_decision_tree_5[columns_to_impute]\n",
    "\n",
    "# Initialize the KNNImputer\n",
    "imputer = KNNImputer(n_neighbors=5)\n",
    "\n",
    "# Perform KNN imputation\n",
    "imputed_data = imputer.fit_transform(df_to_impute)\n",
    "\n",
    "# Convert the imputed data back to a DataFrame\n",
    "df_imputed = pd.DataFrame(imputed_data, columns=columns_to_impute)\n",
    "\n",
    "# Round imputed values to integers\n",
    "df_imputed = df_imputed.round(0).astype(int)\n",
    "\n",
    "# Update the original DataFrame with imputed values\n",
    "df_decision_tree_5[columns_to_impute] = df_imputed\n",
    "\n",
    "# Save the cleaned DataFrame\n",
    "df_decision_tree_5.to_csv('Data/titanic_dataset_for_decision_tree_v5.csv', index=False, sep=';')"
   ]
  },
  {
   "cell_type": "code",
   "execution_count": 44,
   "metadata": {},
   "outputs": [
    {
     "name": "stderr",
     "output_type": "stream",
     "text": [
      "/opt/miniconda3/envs/py310/lib/python3.10/site-packages/pandas/core/arrays/base.py:568: RuntimeWarning: invalid value encountered in cast\n",
      "  result = np.asarray(self, dtype=dtype)\n"
     ]
    }
   ],
   "source": [
    "from sklearn.experimental import enable_iterative_imputer\n",
    "from sklearn.impute import IterativeImputer\n",
    "import pandas as pd\n",
    "\n",
    "df_decision_tree_6 = df_decision_tree_2.copy()\n",
    "\n",
    "columns_to_impute = ['Pclass', 'Sex', 'Age', 'Relatives', 'Fare', 'Embarked']\n",
    "\n",
    "df_decision_tree_6['Sex'] = df_decision_tree_6['Sex'].astype('category').cat.codes\n",
    "df_decision_tree_6['Embarked'] = df_decision_tree_6['Embarked'].astype('category').cat.codes\n",
    "\n",
    "imputer = IterativeImputer()\n",
    "df_decision_tree_6[columns_to_impute] = imputer.fit_transform(df_decision_tree_6[columns_to_impute])\n",
    "\n",
    "df_decision_tree_6[columns_to_impute] = df_decision_tree_6[columns_to_impute].round().astype(int)\n",
    "\n",
    "df_decision_tree_6.to_csv('Data/titanic_dataset_for_decision_tree_v6.csv', index=False, sep=';')\n"
   ]
  },
  {
   "cell_type": "markdown",
   "metadata": {},
   "source": [
    "Even after using KNN and MICE, we get the same result, as when we filled any values with 0 instead, all reaching about 70% accuracy."
   ]
  },
  {
   "cell_type": "markdown",
   "metadata": {},
   "source": [
    "#### <u>Decision Tree Version 7</u>\n",
    "\n",
    "In order to push our score potentially even higher, we may try out feature engineering. We may introduce two new features:\n",
    "- isAlone: The passenger is travelling alone\n",
    "- title: A title extracted from the name column"
   ]
  },
  {
   "cell_type": "code",
   "execution_count": 45,
   "metadata": {},
   "outputs": [],
   "source": [
    "df_decision_tree_7 = df_decision_tree_2_filling.copy()\n",
    "\n",
    "df_decision_tree_7['IsAlone'] = (df_decision_tree_7['Relatives'] == 0).astype(int)\n",
    "df_decision_tree_7['Name'] = df['Name']\n",
    "\n",
    "df_decision_tree_7['Title'] = df_decision_tree_7['Name'].apply(lambda x: x.split(',')[1].split('.')[0].strip())\n",
    "df_decision_tree_7['Title'] = df_decision_tree_7['Title'].replace('', 'None')\n",
    "df_decision_tree_7['Title'] = df_decision_tree_7['Title'].apply(lambda x: x if x in ['Mr', 'Mrs', 'Miss', 'Master', 'None'] else 'Other')\n",
    "df_decision_tree_7['Title'] = df_decision_tree_7['Title'].map({'Mr': 1, 'Mrs': 2, 'Miss': 3, 'Master': 4, 'Other': 5})\n",
    "\n",
    "df_decision_tree_7.drop('Name', axis=1, inplace=True)\n",
    "\n",
    "df_decision_tree_7.to_csv('Data/titanic_dataset_for_decision_tree_v7.csv', index=False, sep=';')\n"
   ]
  },
  {
   "cell_type": "markdown",
   "metadata": {},
   "source": [
    "Through the new 2 features we have made, we have achieved an increase to almost 73-74%."
   ]
  },
  {
   "cell_type": "markdown",
   "metadata": {},
   "source": [
    "#### <u>SVM</u>\n",
    "\n",
    "Let us use the same processed dataset for a Support Vector Machine model!\n"
   ]
  },
  {
   "cell_type": "code",
   "execution_count": 46,
   "metadata": {},
   "outputs": [],
   "source": [
    "df_svm = df_decision_tree_7.copy()\n",
    "df_svm.to_csv('Data/titanic_dataset_for_svm.csv', index=False, sep=';')"
   ]
  },
  {
   "cell_type": "markdown",
   "metadata": {},
   "source": [
    "We have reached an accuracy of almost 77% by only exchanging Decision Trees with a SVM. What other machine learning models would be suitable?"
   ]
  },
  {
   "cell_type": "markdown",
   "metadata": {},
   "source": [
    "#### <u>kNN</u>\n",
    "Let us again use the same preprocessed dataset for a kNN model!\n"
   ]
  },
  {
   "cell_type": "code",
   "execution_count": 47,
   "metadata": {},
   "outputs": [],
   "source": [
    "df_knn = df_decision_tree_7.copy()\n",
    "df_knn.to_csv('Data/titanic_dataset_for_knn.csv', index=False, sep=';')"
   ]
  },
  {
   "cell_type": "markdown",
   "metadata": {},
   "source": [
    "#### <u>Logistic regression</u>"
   ]
  },
  {
   "cell_type": "code",
   "execution_count": 48,
   "metadata": {},
   "outputs": [],
   "source": [
    "df_log_reg = df_decision_tree_7.copy()\n",
    "df_log_reg.to_csv('Data/titanic_dataset_for_log_reg.csv', index=False, sep=';')"
   ]
  },
  {
   "cell_type": "markdown",
   "metadata": {},
   "source": [
    "#### <u>Random Forest</u>\n"
   ]
  },
  {
   "cell_type": "code",
   "execution_count": 49,
   "metadata": {},
   "outputs": [],
   "source": [
    "df_random_forest = df_decision_tree_7.copy()\n",
    "df_random_forest.to_csv('Data/titanic_dataset_for_random_forest.csv', index=False, sep=';')"
   ]
  },
  {
   "cell_type": "markdown",
   "metadata": {},
   "source": [
    "#### <u>Gradient Boosting</u>\n"
   ]
  },
  {
   "cell_type": "code",
   "execution_count": 50,
   "metadata": {},
   "outputs": [],
   "source": [
    "df_gradient_boosting = df_decision_tree_7.copy()\n",
    "df_gradient_boosting.to_csv('Data/titanic_dataset_for_gradient_boosting.csv', index=False, sep=';')"
   ]
  },
  {
   "cell_type": "markdown",
   "metadata": {},
   "source": [
    "## <u>Sources</u>\n",
    "\n",
    "[Wayne Hall, Social class and survival on the S.S. Titanic, 1986](http://dx.doi.org/10.1016/0277-9536(86)90041-9)"
   ]
  }
 ],
 "metadata": {
  "kernelspec": {
   "display_name": "Python 3.8.1 64-bit",
   "language": "python",
   "name": "python3"
  },
  "language_info": {
   "codemirror_mode": {
    "name": "ipython",
    "version": 3
   },
   "file_extension": ".py",
   "mimetype": "text/x-python",
   "name": "python",
   "nbconvert_exporter": "python",
   "pygments_lexer": "ipython3",
   "version": "3.10.14"
  },
  "orig_nbformat": 4,
  "vscode": {
   "interpreter": {
    "hash": "52634da84371cba311ea128a5ea7cdc41ff074b781779e754b270ff9f8153cee"
   }
  }
 },
 "nbformat": 4,
 "nbformat_minor": 2
}
